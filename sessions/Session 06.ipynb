{
 "cells": [
  {
   "cell_type": "markdown",
   "metadata": {},
   "source": [
    "# Session 06\n",
    "\n",
    "[![Open and Execute in Google Colaboratory](https://colab.research.google.com/assets/colab-badge.svg)](https://colab.research.google.com/github/astrojuanlu/ie-mbd-python-data-analysis-i/blob/main/sessions/Session%2006.ipynb)\n",
    "\n",
    "- List, dictionary, and set comprehensions\n",
    "- Filtering comprehensions\n",
    "- Dealing with missing keys\n",
    "- Practice\n",
    "    - Dealing with information in several containers\n",
    "    - Learning about unique values\n",
    "    - Storing information and mutating it\n",
    "    - Debugging techniques"
   ]
  },
  {
   "cell_type": "markdown",
   "metadata": {
    "tags": []
   },
   "source": [
    "## List, dictionary, and set comprehensions"
   ]
  },
  {
   "cell_type": "markdown",
   "metadata": {},
   "source": [
    "Python provides a compact way of creating containers by iterating over the elements of another container: comprehensions.\n",
    "\n",
    "Most simple data structures seen so far support comprehensions. For example, for lists:"
   ]
  },
  {
   "cell_type": "code",
   "execution_count": null,
   "metadata": {},
   "outputs": [],
   "source": [
    "numbers = list(range(10))\n",
    "print(numbers)"
   ]
  },
  {
   "cell_type": "code",
   "execution_count": null,
   "metadata": {},
   "outputs": [],
   "source": [
    "square_numbers = [num ** 2 for num in numbers]\n",
    "square_numbers"
   ]
  },
  {
   "cell_type": "markdown",
   "metadata": {},
   "source": [
    "A similar syntax works for dictionaries and sets:"
   ]
  },
  {
   "cell_type": "code",
   "execution_count": null,
   "metadata": {},
   "outputs": [],
   "source": [
    "{\n",
    "    word.lower()\n",
    "    for word in\n",
    "    \"This is a complete sentence, and that is another complete sentence\".split()\n",
    "}"
   ]
  },
  {
   "cell_type": "code",
   "execution_count": null,
   "metadata": {},
   "outputs": [],
   "source": [
    "{\n",
    "    word.lower(): len(word)\n",
    "    for word in\n",
    "    \"This is a complete sentence, and that is another complete sentence\".split()\n",
    "}"
   ]
  },
  {
   "cell_type": "markdown",
   "metadata": {},
   "source": [
    "<div class=\"alert alert-warning\">Using parentheses does not generate a \"tuple comprehension\", but a totally different thing: a generator expression. We will not cover generators in this course.\n",
    "\n",
    "Remember: commas generate tuples!</div>"
   ]
  },
  {
   "cell_type": "code",
   "execution_count": null,
   "metadata": {},
   "outputs": [],
   "source": [
    "(number ** 2 for number in range(5))"
   ]
  },
  {
   "cell_type": "markdown",
   "metadata": {},
   "source": [
    "## Filtering comprehensions\n",
    "\n",
    "A handy feature of comprehensions is that they can be _filtered_ by adding an `if` part at the end:"
   ]
  },
  {
   "cell_type": "code",
   "execution_count": null,
   "metadata": {},
   "outputs": [],
   "source": [
    "numbers = list(range(10))\n",
    "print(numbers)"
   ]
  },
  {
   "cell_type": "code",
   "execution_count": null,
   "metadata": {},
   "outputs": [],
   "source": [
    "even_numbers = [\n",
    "    num\n",
    "    for num in\n",
    "    numbers\n",
    "    if num % 2 == 0\n",
    "]\n",
    "even_numbers"
   ]
  },
  {
   "cell_type": "code",
   "execution_count": null,
   "metadata": {},
   "outputs": [],
   "source": [
    "long_words = {\n",
    "    word.lower(): len(word)\n",
    "    for word in\n",
    "    \"This is a complete sentence, and that is another complete sentence\".split()\n",
    "    if len(word) > 5\n",
    "}\n",
    "long_words"
   ]
  },
  {
   "cell_type": "markdown",
   "metadata": {},
   "source": [
    "## Dealing with missing keys\n",
    "\n",
    "Sometimes, extracting a key from a dictionary in a loop is not robust:"
   ]
  },
  {
   "cell_type": "code",
   "execution_count": null,
   "metadata": {},
   "outputs": [],
   "source": [
    "data = [\n",
    "    {\"text\": \"ABC\"},\n",
    "    {\"text\": \"DEF\"},\n",
    "    {\"text\": \"GHI\"},\n",
    "    {},  # This is empty!\n",
    "]\n",
    "[row[\"text\"] for row in data]"
   ]
  },
  {
   "cell_type": "markdown",
   "metadata": {},
   "source": [
    "For those cases, it's often better to use the `.get` method, which returns a fallback value if the key is not present:"
   ]
  },
  {
   "cell_type": "code",
   "execution_count": null,
   "metadata": {},
   "outputs": [],
   "source": [
    "{\"key\": \"present\"}.get(\"_MISSING_KEY\", \"MISSING\")"
   ]
  },
  {
   "cell_type": "code",
   "execution_count": null,
   "metadata": {},
   "outputs": [],
   "source": [
    "[row.get(\"text\", \"<empty>\") for row in data]"
   ]
  },
  {
   "cell_type": "markdown",
   "metadata": {},
   "source": [
    "## Exercises"
   ]
  },
  {
   "cell_type": "markdown",
   "metadata": {},
   "source": [
    "### Rick & Morty shows data"
   ]
  },
  {
   "cell_type": "code",
   "execution_count": null,
   "metadata": {},
   "outputs": [],
   "source": [
    "import requests\n",
    "\n",
    "DATA_URL = (\n",
    "    \"https://github.com/astrojuanlu/ie-mbd-python-data-analysis-i/\"\n",
    "    \"raw/main/data/rick-and-morty.json\"\n",
    ")\n",
    "\n",
    "data = requests.get(DATA_URL).json()\n",
    "print(type(data), len(data))"
   ]
  },
  {
   "cell_type": "markdown",
   "metadata": {},
   "source": [
    "Basic aggregates:\n",
    "\n",
    "- How many episodes were there in the show in total?\n",
    "- How many episodes did each season have?\n",
    "- When were the earliest and latest episode aired?\n",
    "- At what times were episodes aired?\n",
    "- What's the average and standard deviation of the average rating of all the episodes?\n",
    "\n",
    "Derived data:\n",
    "\n",
    "- Create a simplified version of the data with only these keys:\n",
    "\n",
    "```\n",
    "{\n",
    "  'id': ...,\n",
    "  'name': ...,\n",
    "  'season': ...,\n",
    "  'number': ...,\n",
    "  'airdate': ...,\n",
    "  'airtime': ...,\n",
    "  'runtime': ...,\n",
    "  'average_rating': ...,\n",
    "  'summary': ...,\n",
    "}\n",
    "```\n",
    "\n",
    "- Compute a \"top\" field to each episode, which can be `True` or `False` depending on whether the average rating is above or below the overall average\n",
    "\n",
    "Text processing:\n",
    "\n",
    "- How many times are \"Rick\" and \"Morty\" mentioned across all episode summaries? Who is mentioned the most?\n",
    "- What are the 15 most common words repeated in all summaries?\n",
    "- Same as above, but excluding common English stopwords (\"a\", \"to\", \"and\", \"the\", \"of\", ...)"
   ]
  },
  {
   "cell_type": "markdown",
   "metadata": {},
   "source": [
    "### Reddit data"
   ]
  },
  {
   "cell_type": "code",
   "execution_count": null,
   "metadata": {},
   "outputs": [],
   "source": [
    "import requests\n",
    "\n",
    "DATA_URL = (\n",
    "    \"https://github.com/astrojuanlu/ie-mbd-python-data-analysis-i/\"\n",
    "    \"raw/main/data/reddit_popular.json\"\n",
    ")\n",
    "\n",
    "reddit_all = requests.get(DATA_URL).json()\n",
    "print(type(reddit_all), len(reddit_all))"
   ]
  },
  {
   "cell_type": "markdown",
   "metadata": {},
   "source": [
    "Basic aggregates:\n",
    "\n",
    "- How many Reddit posts are there?\n",
    "- How many different \"kinds\"?\n",
    "- Are all the post IDs unique?\n",
    "- Does any post have a nonzero number of downvotes?\n",
    "- How many different subreddits are represented?\n",
    "- How many unique values for \"flair text\" are present?\n",
    "\n",
    "Data mining:\n",
    "\n",
    "- What is the \"edited\" field?\n",
    "- How are the \"is_self\" and \"domain\" fields related?\n",
    "\n",
    "Advanced:\n",
    "\n",
    "- There's a few posts from \"positive\" subreddits (r/MadeMeSmile) and a few ones from \"negative\" subreddits (r/mildlyinfuriating, r/Wellthatsucks). Compute a \"sentiment\" key to those posts, with the value \"1\" or \"-1\" for positive or negative.\n",
    "- Compute the average upvote ratio of positive vs negative posts"
   ]
  }
 ],
 "metadata": {
  "kernelspec": {
   "display_name": "Python 3 (ipykernel)",
   "language": "python",
   "name": "python3"
  },
  "language_info": {
   "codemirror_mode": {
    "name": "ipython",
    "version": 3
   },
   "file_extension": ".py",
   "mimetype": "text/x-python",
   "name": "python",
   "nbconvert_exporter": "python",
   "pygments_lexer": "ipython3",
   "version": "3.12.11"
  }
 },
 "nbformat": 4,
 "nbformat_minor": 4
}
