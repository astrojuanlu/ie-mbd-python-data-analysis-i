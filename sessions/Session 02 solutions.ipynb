{
 "cells": [
  {
   "cell_type": "code",
   "execution_count": null,
   "id": "77607745-b2ea-44a6-b3dc-ad41724f29c9",
   "metadata": {},
   "outputs": [],
   "source": [
    "P = 10_000  # EUR\n",
    "r = 0.05\n",
    "t = 3\n",
    "n = 12\n",
    "\n",
    "A = (P * (1 + r / n)) ** (n * t)\n",
    "A"
   ]
  },
  {
   "cell_type": "code",
   "execution_count": null,
   "id": "09bb67e4-b068-4a66-8a3c-89132b0f08ab",
   "metadata": {},
   "outputs": [],
   "source": [
    "round((A - P) / P * 100, 1)"
   ]
  },
  {
   "cell_type": "code",
   "execution_count": null,
   "id": "ae8f4811-dcfe-42aa-9d1b-e6ce1e4ae4d5",
   "metadata": {},
   "outputs": [],
   "source": [
    "import matplotlib.pyplot as plt\n",
    "\n",
    "# Parameters\n",
    "P = 10000       # principal\n",
    "n = 12          # monthly compounding\n",
    "t_max = 10      # years for plot\n",
    "time = list(range(t_max + 1))  # 0 to 10 years\n",
    "\n",
    "# Different annual interest rates to compare\n",
    "rates = [0.03, 0.05, 0.07]  # 3%, 5%, 7%\n",
    "for r in rates:\n",
    "    A = [P * (1 + r/n)**(n*year) for year in time]\n",
    "    plt.plot(time, A, label=f'{r*100:.0f}% interest')\n",
    "\n",
    "plt.xlabel('Years')\n",
    "plt.ylabel('Final Amount (€)')\n",
    "plt.title('Compound Interest Over Time')\n",
    "plt.legend()\n",
    "plt.grid(True)\n",
    "plt.show()\n"
   ]
  },
  {
   "cell_type": "code",
   "execution_count": null,
   "id": "540781f3-22ed-4523-881d-f027d98fa413",
   "metadata": {},
   "outputs": [],
   "source": [
    "fixed_costs = 1_000\n",
    "units_sold = 74\n",
    "variable_cost = 10\n",
    "price = 25 - 0.02 * units_sold\n",
    "profit = (price - variable_cost) * units_sold - fixed_costs\n",
    "\n",
    "profit"
   ]
  },
  {
   "cell_type": "code",
   "execution_count": null,
   "id": "ecd78fce-92a0-4641-9bd1-e57328d37b54",
   "metadata": {},
   "outputs": [],
   "source": [
    "import matplotlib.pyplot as plt\n",
    "\n",
    "fixed_costs = 1_000\n",
    "variable_cost_per_unit = 10\n",
    "\n",
    "units_sold = range(0, 301)  # 0 to 300 units\n",
    "\n",
    "# Profit with demand-based pricing: price decreases as units increase\n",
    "profit = [(max(25 - 0.02*u, 5) - variable_cost_per_unit) * u - fixed_costs for u in units_sold]\n",
    "\n",
    "# Plot\n",
    "plt.plot(units_sold, profit, label='Profit vs Units Sold (Demand-Based Price)')\n",
    "plt.axhline(0, color='red', linestyle='--', label='Break-even')\n",
    "plt.xlabel('Units Sold')\n",
    "plt.ylabel('Profit (€)')\n",
    "plt.title('Non-linear Profit with Demand-Based Pricing')\n",
    "plt.legend()\n",
    "plt.grid(True)\n",
    "plt.show()"
   ]
  },
  {
   "cell_type": "code",
   "execution_count": null,
   "id": "1a0dccd6-34d8-46ae-9d73-d4271d143fd1",
   "metadata": {},
   "outputs": [],
   "source": [
    "principal = 200_000\n",
    "annual_rate = 6.5 / 100\n",
    "years_total = 30\n",
    "\n",
    "payment = principal * (annual_rate / 12) / (1 - (1 + annual_rate / 12) ** (-years_total * 12))\n",
    "payment"
   ]
  }
 ],
 "metadata": {
  "kernelspec": {
   "display_name": "Python 3 (ipykernel)",
   "language": "python",
   "name": "python3"
  },
  "language_info": {
   "codemirror_mode": {
    "name": "ipython",
    "version": 3
   },
   "file_extension": ".py",
   "mimetype": "text/x-python",
   "name": "python",
   "nbconvert_exporter": "python",
   "pygments_lexer": "ipython3",
   "version": "3.12.11"
  }
 },
 "nbformat": 4,
 "nbformat_minor": 5
}
