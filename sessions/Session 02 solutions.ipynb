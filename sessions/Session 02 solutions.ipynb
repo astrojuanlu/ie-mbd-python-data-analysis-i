{
 "cells": [
  {
   "cell_type": "code",
   "execution_count": 1,
   "id": "b5f9ed5c-7426-4fd1-b258-9cc25e5ca936",
   "metadata": {
    "execution": {
     "iopub.execute_input": "2022-10-04T20:58:02.556908Z",
     "iopub.status.busy": "2022-10-04T20:58:02.556819Z",
     "iopub.status.idle": "2022-10-04T20:58:02.565264Z",
     "shell.execute_reply": "2022-10-04T20:58:02.564821Z",
     "shell.execute_reply.started": "2022-10-04T20:58:02.556879Z"
    }
   },
   "outputs": [
    {
     "data": {
      "text/plain": [
       "-3.0000000000000004"
      ]
     },
     "execution_count": 1,
     "metadata": {},
     "output_type": "execute_result"
    }
   ],
   "source": [
    "a = 0.1\n",
    "b = 0.2\n",
    "\n",
    "(a + b) / (a - b)"
   ]
  },
  {
   "cell_type": "code",
   "execution_count": 2,
   "id": "b6de7c1c-a791-4885-8ea9-e84727f4b2bd",
   "metadata": {
    "execution": {
     "iopub.execute_input": "2022-10-04T20:58:02.565739Z",
     "iopub.status.busy": "2022-10-04T20:58:02.565656Z",
     "iopub.status.idle": "2022-10-04T20:58:02.577321Z",
     "shell.execute_reply": "2022-10-04T20:58:02.577095Z",
     "shell.execute_reply.started": "2022-10-04T20:58:02.565730Z"
    },
    "tags": []
   },
   "outputs": [
    {
     "data": {
      "text/plain": [
       "1.3194444444444444"
      ]
     },
     "execution_count": 2,
     "metadata": {},
     "output_type": "execute_result"
    }
   ],
   "source": [
    "c = 1 / 3\n",
    "d = 1.25\n",
    "\n",
    "(10 * c + d / 2) / 3"
   ]
  }
 ],
 "metadata": {
  "kernelspec": {
   "display_name": "Python 3 (ipykernel)",
   "language": "python",
   "name": "python3"
  },
  "language_info": {
   "codemirror_mode": {
    "name": "ipython",
    "version": 3
   },
   "file_extension": ".py",
   "mimetype": "text/x-python",
   "name": "python",
   "nbconvert_exporter": "python",
   "pygments_lexer": "ipython3",
   "version": "3.12.11"
  }
 },
 "nbformat": 4,
 "nbformat_minor": 5
}
