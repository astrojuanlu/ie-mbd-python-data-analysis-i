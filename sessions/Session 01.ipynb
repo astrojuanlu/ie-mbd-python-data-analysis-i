{
 "cells": [
  {
   "attachments": {},
   "cell_type": "markdown",
   "metadata": {},
   "source": [
    "# Session 01\n",
    "\n",
    "[![Open and Execute in Google Colaboratory](https://colab.research.google.com/assets/colab-badge.svg)](https://colab.research.google.com/github/astrojuanlu/ie-mbd-python-data-analysis-i/blob/main/sessions/Session%2001.ipynb)\n",
    "\n",
    "- Introduction\n",
    "  - Generative AI policy\n",
    "- ~~Launching Jupyter Notebook from Anaconda Navigator~~ Introducing Google Colab\n",
    "- First experiments with Python on Jupyter\n",
    "- Python as a calculator: Basic numeric types\n",
    "- Examples of interactive outputs"
   ]
  },
  {
   "cell_type": "markdown",
   "metadata": {},
   "source": [
    "## Introducing Google Colab\n",
    "\n",
    "_Adapted from https://colab.research.google.com/notebooks/basic_features_overview.ipynb#scrollTo=d-S-3nYLQSHb_"
   ]
  },
  {
   "cell_type": "markdown",
   "metadata": {
    "id": "JyG45Qk3qQLS"
   },
   "source": [
    "### Runtimes\n",
    "Google Colab can execute code online after connecting to a runtime. This runtime has a predefined Python version and some preinstalled third-party packages.\n",
    "\n",
    "To start, click on the \"Connect\" or \"Reconnect\" button in the top right corner. After the allocation is finished, you should see a green tick ✔️ in the top right corner, and \"Python 3\" at the bottom right."
   ]
  },
  {
   "cell_type": "markdown",
   "metadata": {
    "id": "JyG45Qk3qQLS"
   },
   "source": [
    "### Cells\n",
    "A notebook is a list of cells. Cells contain either explanatory text or executable code and its output. Click a cell to select it."
   ]
  },
  {
   "cell_type": "markdown",
   "metadata": {
    "id": "KR921S_OQSHG"
   },
   "source": [
    "#### Code cells\n",
    "Below is a **code cell**. Once the toolbar button indicates CONNECTED, click in the cell to select it and execute the contents in the following ways:\n",
    "\n",
    "* Click the **Play icon** in the left gutter of the cell;\n",
    "* Type **Cmd/Ctrl+Enter** to run the cell in place;\n",
    "* Type **Shift+Enter** to run the cell and move focus to the next cell (adding one if none exists); or\n",
    "* Type **Alt+Enter** to run the cell and insert a new code cell immediately below it.\n",
    "\n",
    "There are additional options for running some or all cells in the **Runtime** menu.\n"
   ]
  },
  {
   "cell_type": "code",
   "execution_count": null,
   "metadata": {
    "cellView": "both",
    "colab": {
     "base_uri": "https://localhost:8080/"
    },
    "id": "WUtu4316QSHL",
    "outputId": "a2c0c661-8fa7-49de-befd-0933ca9944f4"
   },
   "outputs": [],
   "source": [
    "import sys\n",
    "\n",
    "sys.version_info"
   ]
  },
  {
   "cell_type": "markdown",
   "metadata": {
    "id": "Id6tDF1HQSHD"
   },
   "source": [
    "#### Text cells\n",
    "This is a **text cell**. You can **double-click** to edit this cell. Text cells\n",
    "use markdown syntax. To learn more, see our [markdown\n",
    "guide](/notebooks/markdown_guide.ipynb).\n",
    "\n",
    "You can also add math to text cells using [LaTeX](http://www.latex-project.org/)\n",
    "to be rendered by [MathJax](https://www.mathjax.org). Just place the statement\n",
    "within a pair of **\\$** signs. For example `$$\\sqrt{3x-1}+(1+x)^2$$` becomes\n",
    "\n",
    "$$\n",
    "\\sqrt{3x-1}+(1+x)^2.\n",
    "$$"
   ]
  },
  {
   "cell_type": "markdown",
   "metadata": {
    "id": "7bqjkGKwQSHW"
   },
   "source": [
    "#### Adding and moving cells\n",
    "You can add new cells by using the **+ CODE** and **+ TEXT** buttons that show when you hover between cells. These buttons are also in the toolbar above the notebook where they can be used to add a cell below the currently selected cell.\n",
    "\n",
    "You can move a cell by selecting it and clicking **Cell Up** or **Cell Down** in the top toolbar.\n",
    "\n",
    "Consecutive cells can be selected by \"lasso selection\" by dragging from outside one cell and through the group.  Non-adjacent cells can be selected concurrently by clicking one and then holding down Ctrl while clicking another.  Similarly, using Shift instead of Ctrl will select all intermediate cells."
   ]
  },
  {
   "cell_type": "markdown",
   "metadata": {
    "id": "aro-UJgUQSH1"
   },
   "source": [
    "### Integration with Drive\n",
    "\n",
    "Colaboratory is integrated with Google Drive. It allows you to share, comment, and collaborate on the same document with multiple people:\n",
    "\n",
    "* The **SHARE** button (top-right of the toolbar) allows you to share the notebook and control permissions set on it.\n",
    "\n",
    "* **File->Make a Copy** creates a copy of the notebook in Drive.\n",
    "\n",
    "* **File->Save** saves the File to Drive. **File->Save and checkpoint** pins the version so it doesn't get deleted from the revision history.\n",
    "\n",
    "* **File->Revision history** shows the notebook's revision history."
   ]
  },
  {
   "cell_type": "markdown",
   "metadata": {
    "id": "4hfV37gxpP_c"
   },
   "source": [
    "### Commenting on a cell\n",
    "You can comment on a Colaboratory notebook like you would on a Google Document. Comments are attached to cells, and are displayed next to the cell they refer to. If you have **comment-only** permissions, you will see a comment button on the top right of the cell when you hover over it.\n",
    "\n",
    "If you have edit or comment permissions you can comment on a cell in one of three ways:\n",
    "\n",
    "1. Select a cell and click the comment button in the toolbar above the top-right corner of the cell.\n",
    "1. Right click a text cell and select **Add a comment** from the context menu.\n",
    "3. Use the shortcut **Ctrl+Shift+M** to add a comment to the currently selected cell.\n",
    "\n",
    "You can resolve and reply to comments, and you can target comments to specific collaborators by typing *+[email address]* (e.g., `+user@domain.com`). Addressed collaborators will be emailed.\n",
    "\n",
    "The Comment button in the top-right corner of the page shows all comments attached to the notebook."
   ]
  },
  {
   "cell_type": "markdown",
   "metadata": {
    "id": "GOwlZRXEQSHZ"
   },
   "source": [
    "## First experiments with Python on Jupyter\n",
    "Colaboratory is built on top of [Jupyter Notebook](https://jupyter.org/). Below are some examples of convenience functions provided."
   ]
  },
  {
   "cell_type": "markdown",
   "metadata": {
    "id": "RVuqWUXPQSHa"
   },
   "source": [
    "Long running python processes can be interrupted. Run the following cell and select **Runtime -> Interrupt execution** (*hotkey: Cmd/Ctrl-M I*) to stop execution."
   ]
  },
  {
   "cell_type": "code",
   "execution_count": null,
   "metadata": {
    "cellView": "both",
    "colab": {
     "base_uri": "https://localhost:8080/",
     "height": 217
    },
    "id": "d-S-3nYLQSHb",
    "outputId": "2857b063-5b63-4819-a92a-22ae02bed71b"
   },
   "outputs": [],
   "source": [
    "import time\n",
    "print(\"Sleeping\")\n",
    "time.sleep(30) # sleep for a while; interrupt me!\n",
    "print(\"Done Sleeping\")"
   ]
  },
  {
   "cell_type": "markdown",
   "metadata": {
    "id": "d4L9TOP9QSHn"
   },
   "source": [
    "### Automatic completions and exploring code\n",
    "\n",
    "Colab provides automatic completions to explore attributes of Python objects, as well as to quickly view documentation strings. As an example, first run the following cell to import the  [`pandas`](https://pandas.pydata.org/) package:"
   ]
  },
  {
   "cell_type": "code",
   "execution_count": null,
   "metadata": {
    "cellView": "both",
    "id": "Q0JKWcmtQSHp"
   },
   "outputs": [],
   "source": [
    "import pandas as pd"
   ]
  },
  {
   "cell_type": "markdown",
   "metadata": {
    "id": "1M890-bXeyYp"
   },
   "source": [
    "If you now insert your cursor after `pd` and press **Period**(`.`), you will see the list of available completions within the `pd` module. Completions can be opened again by using **Ctrl+Space**."
   ]
  },
  {
   "cell_type": "code",
   "execution_count": null,
   "metadata": {
    "cellView": "both",
    "id": "j6QRIfUHQSHq"
   },
   "outputs": [],
   "source": [
    "pd"
   ]
  },
  {
   "cell_type": "markdown",
   "metadata": {
    "id": "g6MfomFhQSHs"
   },
   "source": [
    "If you type an open parenthesis after any function or class in the module, you will see a pop-up of its documentation string:"
   ]
  },
  {
   "cell_type": "code",
   "execution_count": null,
   "metadata": {
    "cellView": "both",
    "id": "SD0XnrVhQSHt"
   },
   "outputs": [],
   "source": [
    "pd.DataFrame"
   ]
  },
  {
   "cell_type": "markdown",
   "metadata": {
    "id": "GVIVDgdaRjPQ"
   },
   "source": [
    "The documentation can be opened again using **Ctrl+Shift+Space** or you can view the documentation for method by mouse hovering over the method name.\n",
    "\n",
    "When hovering over the method name the `Open in tab` link will open the documentation in a persistent pane. The `View source` link will navigate to the source code for the method."
   ]
  },
  {
   "cell_type": "markdown",
   "metadata": {},
   "source": [
    "## Python as a calculator"
   ]
  },
  {
   "cell_type": "markdown",
   "metadata": {},
   "source": [
    "Python as a simple calculator:"
   ]
  },
  {
   "cell_type": "code",
   "execution_count": null,
   "metadata": {},
   "outputs": [],
   "source": [
    "2 + 2"
   ]
  },
  {
   "cell_type": "markdown",
   "metadata": {},
   "source": [
    "In Jupyter, we execute code in cells. Each cell is automatically numbered and can contain several lines of code. The output of the last line is always shown:"
   ]
  },
  {
   "cell_type": "code",
   "execution_count": null,
   "metadata": {},
   "outputs": [],
   "source": [
    "1 + 1\n",
    "2 + 2\n",
    "3 + 3"
   ]
  },
  {
   "cell_type": "markdown",
   "metadata": {},
   "source": [
    "Jupyter generates some automatic variables prefixed with underscores that refer to the numbered cells. For example, variable `_2` contains the output of cell number 2:"
   ]
  },
  {
   "cell_type": "code",
   "execution_count": null,
   "metadata": {},
   "outputs": [],
   "source": [
    "_2"
   ]
  },
  {
   "cell_type": "markdown",
   "metadata": {},
   "source": [
    "All the usual mathematical operations are supported:"
   ]
  },
  {
   "cell_type": "code",
   "execution_count": null,
   "metadata": {},
   "outputs": [],
   "source": [
    "2 ** 4"
   ]
  },
  {
   "cell_type": "markdown",
   "metadata": {},
   "source": [
    "<div class=\"alert alert-info\">For a list of all operations, see the documentation at <a href=\"https://docs.python.org/3/library/stdtypes.html#numeric-types-int-float-complex\">https://docs.python.org/3/library/stdtypes.html#numeric-types-int-float-complex</a></div>"
   ]
  },
  {
   "cell_type": "markdown",
   "metadata": {},
   "source": [
    "### Floating point gotchas\n",
    "\n",
    "Floating point arithmetic follows [some special rules](https://floating-point-gui.de/). No need to understand them in depth, just beware of surprising results:"
   ]
  },
  {
   "cell_type": "code",
   "execution_count": null,
   "metadata": {},
   "outputs": [],
   "source": [
    "1.0 + 2.0"
   ]
  },
  {
   "cell_type": "code",
   "execution_count": null,
   "metadata": {},
   "outputs": [],
   "source": [
    "0.1 + 0.2"
   ]
  },
  {
   "cell_type": "code",
   "execution_count": null,
   "metadata": {},
   "outputs": [],
   "source": [
    "0.2 + 0.3"
   ]
  },
  {
   "cell_type": "markdown",
   "metadata": {},
   "source": [
    "Python automatically promotes types when doing operations that combine different ones:"
   ]
  },
  {
   "cell_type": "code",
   "execution_count": null,
   "metadata": {},
   "outputs": [],
   "source": [
    "10 + 0.1  # int + float"
   ]
  },
  {
   "cell_type": "markdown",
   "metadata": {
    "id": "7cRnhv_7N4Pa"
   },
   "source": [
    "## Examples of interactive outputs\n",
    "Until now all of the generated outputs have been text, but they can be more interesting, like the chart below."
   ]
  },
  {
   "cell_type": "code",
   "execution_count": null,
   "metadata": {
    "colab": {
     "height": 280
    },
    "id": "JVXnTqyE9RET",
    "outputId": "38836587-a7cf-4a14-f5eb-cfdd321d82b8"
   },
   "outputs": [],
   "source": [
    "import numpy as np\n",
    "from matplotlib import pyplot as plt\n",
    "\n",
    "ys = 200 + np.random.randn(100)\n",
    "x = [x for x in range(len(ys))]\n",
    "\n",
    "plt.plot(x, ys, '-')\n",
    "plt.fill_between(x, ys, 195, where=(ys > 195), facecolor='g', alpha=0.6)\n",
    "\n",
    "plt.title(\"Fills and Alpha Example\")\n",
    "plt.show()"
   ]
  },
  {
   "cell_type": "code",
   "execution_count": null,
   "metadata": {},
   "outputs": [],
   "source": [
    "%pip install lonboard"
   ]
  },
  {
   "cell_type": "code",
   "execution_count": null,
   "metadata": {},
   "outputs": [],
   "source": [
    "import geopandas as gpd\n",
    "from lonboard import viz\n",
    "\n",
    "url = \"https://raw.githubusercontent.com/visgl/deck.gl-data/master/examples/geojson/vancouver-blocks.json\"\n",
    "gdf = gpd.read_file(url)\n",
    "\n",
    "viz(gdf, polygon_kwargs=dict(get_fill_color=[255, 0, 0, 140]))"
   ]
  },
  {
   "cell_type": "code",
   "execution_count": null,
   "metadata": {},
   "outputs": [],
   "source": [
    "%pip install quak"
   ]
  },
  {
   "cell_type": "code",
   "execution_count": null,
   "metadata": {},
   "outputs": [],
   "source": [
    "%load_ext quak"
   ]
  },
  {
   "cell_type": "code",
   "execution_count": null,
   "metadata": {},
   "outputs": [],
   "source": [
    "import pandas as pd\n",
    "import lonboard\n",
    "\n",
    "df = pd.read_parquet(\"https://github.com/uwdata/mosaic/raw/main/data/athletes.parquet\")\n",
    "df"
   ]
  },
  {
   "cell_type": "markdown",
   "metadata": {},
   "source": [
    "## Exercises"
   ]
  },
  {
   "cell_type": "markdown",
   "metadata": {},
   "source": [
    "### 1. Play with Markdown cells\n",
    "\n",
    "Insert a new Markdown cell that contains\n",
    "- An unordered list of at least 3 elements\n",
    "- Some bold text\n",
    "- A link to `https://github.com/astrojuanlu/ie-mbd-python-data-analysis-i`\n",
    "- An image (you can use any external image)"
   ]
  },
  {
   "cell_type": "markdown",
   "metadata": {},
   "source": [
    "### 2. Compound interest\n",
    "\n",
    "The formula for the compound interest is\n",
    "\n",
    "$$ A=P \\left( 1+\\frac{r}{n} \\right)^{nt} $$\n",
    "\n",
    "where\n",
    "\n",
    "- $A$ is the final amount\n",
    "- $P$ is the original principal sum\n",
    "- $r$ is the nominal annual interest rate\n",
    "- $n$ is the compounding frequency (1: annually, 12: monthly, 52: weekly, 365: daily)\n",
    "- $t$ is the overall length of time the interest is applied (expressed using the same time units as r, usually years).\n",
    "\n",
    "Compute the final amount starting with 10 000 €, 5 % annual interest compounded monthly, after a period of 3 years. Declare variables that match each of the symbols of the equation.\n",
    "\n",
    "**Extra**: What's the return of investment (percentage of increase?)\n",
    "\n",
    "**Advanced**: Plot the increase of final amount in a 2-dimensional line chart, with different lines for different values of the interest rate."
   ]
  },
  {
   "cell_type": "code",
   "execution_count": null,
   "metadata": {},
   "outputs": [],
   "source": [
    "P = 10_000  # EUR\n",
    "r = ...\n",
    "# ..."
   ]
  },
  {
   "cell_type": "markdown",
   "metadata": {},
   "source": [
    "### 3. Debug the code\n",
    "\n",
    "Your colleague is trying to compute the monthly payment of a fixed-interest mortgage, but they're not sure whether their calculations are correct. Also, their variable names are not following the Python style guide. Can you help?\n",
    "\n",
    "```python\n",
    "PRINCIPAL = 200_000\n",
    "AnnualRate = 6.5\n",
    "yearsTotal = 30\n",
    "\n",
    "Payment = PRINCIPAL * (AnnualRate / 12) / (1 - (1 + AnnualRate / 12) ** -yearsTotal * 12)\n",
    "```"
   ]
  },
  {
   "cell_type": "markdown",
   "metadata": {},
   "source": [
    "### Extra: AI-generated exploratory analysis\n",
    "\n",
    "- Create a new blank Colab notebook from scratch\n",
    "- Connect to a runtime\n",
    "- Open the Files side panel and expand the `sample_data` directory\n",
    "- Hover `california_housing_train.csv` until you see the \"add to Gemini\" button, click it\n",
    "- On the Gemini text input at the bottom, type \"generate a short exploratory data analysis using pandas with only numerical insights\", and submit\n",
    "- When it's ready, click \"Accept and run\""
   ]
  },
  {
   "cell_type": "markdown",
   "metadata": {},
   "source": [
    "### Extra: Iterating with AI and less known libraries \n",
    "\n",
    "- On the same notebook, ask Gemini \"Install lonboard with pip and visualize the housing units using the latitude and longitude, keep the code compact\"\n",
    "- Does the code work first time? If not, give Gemini a few seconds to figure out the solution to the error and click \"Click and accept\"\n",
    "- Continue iterating until you get a map or you get stuck"
   ]
  }
 ],
 "metadata": {
  "kernelspec": {
   "display_name": "Python 3 (ipykernel)",
   "language": "python",
   "name": "python3"
  },
  "language_info": {
   "codemirror_mode": {
    "name": "ipython",
    "version": 3
   },
   "file_extension": ".py",
   "mimetype": "text/x-python",
   "name": "python",
   "nbconvert_exporter": "python",
   "pygments_lexer": "ipython3",
   "version": "3.12.11"
  }
 },
 "nbformat": 4,
 "nbformat_minor": 4
}
