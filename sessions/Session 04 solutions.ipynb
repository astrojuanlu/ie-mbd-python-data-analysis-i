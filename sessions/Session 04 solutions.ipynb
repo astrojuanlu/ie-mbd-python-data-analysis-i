{
 "cells": [
  {
   "cell_type": "code",
   "execution_count": null,
   "id": "4c00f8e0-8042-42b2-a271-963e1d75498e",
   "metadata": {},
   "outputs": [],
   "source": [
    "weird_list = list(range(50))[::-1]\n",
    "weird_list[1::2] = [0] * len(weird_list[1::2])\n",
    "print(weird_list)"
   ]
  },
  {
   "cell_type": "code",
   "execution_count": null,
   "id": "9e48d255-38c7-4214-b942-96e3274f63c2",
   "metadata": {
    "tags": []
   },
   "outputs": [],
   "source": [
    "names = [\n",
    "    \"Braund, Mr. Owen Harris\",\n",
    "    \"Cumings, Mrs. John Bradley (Florence Briggs Thayer)\",\n",
    "    \"Heikkinen, Miss. Laina\",\n",
    "    \"Futrelle, Mrs. Jacques Heath (Lily May Peel)\",\n",
    "    \"Allen, Mr. William Henry\",\n",
    "]\n",
    "names"
   ]
  },
  {
   "cell_type": "code",
   "execution_count": null,
   "id": "b761c83f-3334-4150-b97f-ecdcb21924e4",
   "metadata": {
    "tags": []
   },
   "outputs": [],
   "source": [
    "names[0].split(\".\")[0].split(\", \")[-1]"
   ]
  },
  {
   "cell_type": "code",
   "execution_count": null,
   "id": "9852e8e5-7b8f-4a18-afd2-0de360282b14",
   "metadata": {
    "tags": []
   },
   "outputs": [],
   "source": [
    "names[1].split(\".\")[0].split(\", \")[-1]"
   ]
  },
  {
   "cell_type": "code",
   "execution_count": null,
   "id": "a36d5dc1-03f2-44ef-837b-02930da93891",
   "metadata": {
    "tags": []
   },
   "outputs": [],
   "source": [
    "names[2].split(\".\")[0].split(\", \")[-1]"
   ]
  },
  {
   "cell_type": "code",
   "execution_count": null,
   "id": "2a1b374e-089c-4ac2-9e81-f534de776605",
   "metadata": {},
   "outputs": [],
   "source": [
    "# Structure: [Company Name, Year, [Region, [Q1, Q2, Q3, Q4], Growth%]]\n",
    "financial_report = [\n",
    "    [\"TechCorp\", 2024,\n",
    "     [[\"North America\", [\"125M\", \"138M\", \"152M\", \"171M\"], \"5.2%\"],\n",
    "      [\"Europe\", [\"89M\", \"94M\", \"101M\", \"108M\"], \"3.8%\"],\n",
    "      [\"APAC\", [\"156M\", \"167M\", \"178M\", \"189M\"], \"4.1%\"]]],\n",
    "    [\"FinanceHub\", 2024,\n",
    "     [[\"North America\", [\"210M\", \"198M\", \"215M\", \"229M\"], \"2.1%\"],\n",
    "      [\"Europe\", [\"178M\", \"185M\", \"192M\", \"201M\"], \"3.2%\"]]]\n",
    "]"
   ]
  },
  {
   "cell_type": "code",
   "execution_count": null,
   "id": "8cd02b40-d0d2-4d28-aa41-bb2a7fed3e62",
   "metadata": {},
   "outputs": [],
   "source": [
    "#tech_corp_europe_q3_revenue = financial_report[0][2][1][2][0]\n",
    "tech_corp_europe_q3_revenue = financial_report[0][2][1][1][2]\n",
    "tech_corp_europe_q3_revenue"
   ]
  },
  {
   "cell_type": "code",
   "execution_count": null,
   "id": "58a0b423-4940-4468-b08f-4bed096270d5",
   "metadata": {},
   "outputs": [],
   "source": [
    "financehub_na_growh_rate = financial_report[1][2][0][2]\n",
    "financehub_na_growh_rate"
   ]
  },
  {
   "cell_type": "code",
   "execution_count": null,
   "id": "28c0f584-af24-4a0e-8632-4adac07d87c0",
   "metadata": {},
   "outputs": [],
   "source": [
    "# Premium tier customers\n",
    "email_premium = {1001, 1003, 1005, 1008, 1012, 1015, 1018}\n",
    "social_premium = {1002, 1005, 1009, 1012, 1016, 1018}\n",
    "direct_mail_premium = {1001, 1007, 1012, 1015, 1020}\n",
    "\n",
    "# Standard tier customers\n",
    "email_standard = {2001, 2003, 2005, 2008, 1005, 1012}  # Note: some overlap with premium!\n",
    "social_standard = {2002, 2005, 2009, 2012, 1018}\n",
    "direct_mail_standard = {2001, 2007, 2010, 1012, 1015}\n",
    "\n",
    "# VIP customers (subset who made purchases)\n",
    "vip_customers = {1005, 1012, 1018, 2005}"
   ]
  },
  {
   "cell_type": "code",
   "execution_count": null,
   "id": "c78cd5c5-558a-4551-86e0-4209dc5142ac",
   "metadata": {},
   "outputs": [],
   "source": [
    "email_premium & social_premium & direct_mail_premium"
   ]
  },
  {
   "cell_type": "code",
   "execution_count": null,
   "id": "d0803be4-4ebe-4a84-bece-f1d9077acdee",
   "metadata": {},
   "outputs": [],
   "source": [
    "email_premium.intersection(social_premium.intersection(direct_mail_premium))"
   ]
  },
  {
   "cell_type": "code",
   "execution_count": null,
   "id": "2f031efd-37f7-4393-8a25-c218bc5c4779",
   "metadata": {},
   "outputs": [],
   "source": [
    "(email_standard | social_standard) - direct_mail_standard"
   ]
  },
  {
   "cell_type": "code",
   "execution_count": null,
   "id": "5f9a2245-0d1d-423e-8035-177ab1e93e81",
   "metadata": {},
   "outputs": [],
   "source": [
    "all_standard = email_standard | social_standard | direct_mail_standard\n",
    "all_standard"
   ]
  },
  {
   "cell_type": "code",
   "execution_count": null,
   "id": "762f6349-fb68-4eae-8f99-bca4830b0acf",
   "metadata": {},
   "outputs": [],
   "source": [
    "all_premium = email_premium | social_premium | direct_mail_premium\n",
    "all_premium"
   ]
  },
  {
   "cell_type": "code",
   "execution_count": null,
   "id": "1f23726c-ff0d-4fca-a197-8e39620d3a8e",
   "metadata": {},
   "outputs": [],
   "source": [
    "all_standard & all_premium"
   ]
  },
  {
   "cell_type": "code",
   "execution_count": null,
   "id": "d911a336-df4b-448a-a700-5ac237eb5a20",
   "metadata": {},
   "outputs": [],
   "source": [
    "all_customers = all_standard | all_premium\n",
    "print(all_customers)"
   ]
  },
  {
   "cell_type": "code",
   "execution_count": null,
   "id": "6f7e8d96-22bc-428c-890c-673ab543a072",
   "metadata": {},
   "outputs": [],
   "source": [
    "len(all_customers)"
   ]
  },
  {
   "cell_type": "code",
   "execution_count": null,
   "id": "a79626f8-81fb-4d39-8df7-cfdaabb7b3ef",
   "metadata": {},
   "outputs": [],
   "source": [
    "len(vip_customers) / len(all_customers) * 100"
   ]
  },
  {
   "cell_type": "code",
   "execution_count": null,
   "id": "c58c7e74-a27b-451d-90ba-677175c5a599",
   "metadata": {},
   "outputs": [],
   "source": []
  }
 ],
 "metadata": {
  "kernelspec": {
   "display_name": "Python 3 (ipykernel)",
   "language": "python",
   "name": "python3"
  },
  "language_info": {
   "codemirror_mode": {
    "name": "ipython",
    "version": 3
   },
   "file_extension": ".py",
   "mimetype": "text/x-python",
   "name": "python",
   "nbconvert_exporter": "python",
   "pygments_lexer": "ipython3",
   "version": "3.12.11"
  }
 },
 "nbformat": 4,
 "nbformat_minor": 5
}
