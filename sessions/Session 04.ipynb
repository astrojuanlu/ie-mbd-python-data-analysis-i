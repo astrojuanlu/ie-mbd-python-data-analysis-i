{
 "cells": [
  {
   "attachments": {},
   "cell_type": "markdown",
   "metadata": {},
   "source": [
    "# Session 04\n",
    "\n",
    "[![Open and Execute in Google Colaboratory](https://colab.research.google.com/assets/colab-badge.svg)](https://colab.research.google.com/github/astrojuanlu/ie-mbd-python-data-analysis-i/blob/main/sessions/Session%2004.ipynb)\n",
    "\n",
    "- Sets, properties and methods\n",
    "- Converting objects\n",
    "- Special sequences: Ranges\n",
    "- Dictionaries, properties and methods\n",
    "- Basic import statements"
   ]
  },
  {
   "cell_type": "markdown",
   "metadata": {},
   "source": [
    "## Sets"
   ]
  },
  {
   "cell_type": "markdown",
   "metadata": {},
   "source": [
    "Sets are not so common, but very handy for some use cases: they are an unordered, mutable collection of unique elements. This means that they can't contain duplicates:"
   ]
  },
  {
   "cell_type": "code",
   "execution_count": null,
   "metadata": {},
   "outputs": [],
   "source": [
    "my_set = {\"a\", \"b\", \"c\", \"c\", \"c\", \"c\", \"d\", \"d\"}\n",
    "my_set"
   ]
  },
  {
   "cell_type": "markdown",
   "metadata": {},
   "source": [
    "Since they are unordered, they cannot be indexed:"
   ]
  },
  {
   "cell_type": "code",
   "execution_count": null,
   "metadata": {},
   "outputs": [],
   "source": [
    "my_set[0]"
   ]
  },
  {
   "cell_type": "markdown",
   "metadata": {},
   "source": [
    "But they can be mutated:"
   ]
  },
  {
   "cell_type": "code",
   "execution_count": null,
   "metadata": {},
   "outputs": [],
   "source": [
    "my_set.add(\"e\")\n",
    "my_set"
   ]
  },
  {
   "cell_type": "markdown",
   "metadata": {},
   "source": [
    "And operated together:\n",
    "\n",
    "![Venn diagram](../img/venn-diagram.png)"
   ]
  },
  {
   "cell_type": "code",
   "execution_count": null,
   "metadata": {},
   "outputs": [],
   "source": [
    "# Union\n",
    "{\"a\", \"b\"} | {\"b\", \"c\"}"
   ]
  },
  {
   "cell_type": "code",
   "execution_count": null,
   "metadata": {},
   "outputs": [],
   "source": [
    "# Intersection\n",
    "{\"a\", \"b\"} & {\"b\", \"c\"}"
   ]
  },
  {
   "cell_type": "code",
   "execution_count": null,
   "metadata": {},
   "outputs": [],
   "source": [
    "# Difference\n",
    "{\"a\", \"b\"} - {\"b\", \"c\"}"
   ]
  },
  {
   "cell_type": "code",
   "execution_count": null,
   "metadata": {},
   "outputs": [],
   "source": [
    "# Exclusive disjunction\n",
    "{\"a\", \"b\"} ^ {\"b\", \"c\"}"
   ]
  },
  {
   "cell_type": "markdown",
   "metadata": {},
   "source": [
    "## Converting objects"
   ]
  },
  {
   "cell_type": "markdown",
   "metadata": {},
   "source": [
    "In some cases you can convert one object in another. To do this, use the corresponding built-in function (`list`, `tuple`, `str`):"
   ]
  },
  {
   "cell_type": "code",
   "execution_count": null,
   "metadata": {
    "tags": []
   },
   "outputs": [],
   "source": [
    "0.1"
   ]
  },
  {
   "cell_type": "code",
   "execution_count": null,
   "metadata": {
    "tags": []
   },
   "outputs": [],
   "source": [
    "str(0.1)  # Notice the quotes: this is a string!"
   ]
  },
  {
   "cell_type": "code",
   "execution_count": null,
   "metadata": {
    "tags": []
   },
   "outputs": [],
   "source": [
    "list(my_tuple)  # Converts the tuple above into a list, notice the square brackets!"
   ]
  },
  {
   "cell_type": "code",
   "execution_count": null,
   "metadata": {
    "tags": []
   },
   "outputs": [],
   "source": [
    "tuple(my_list)  # Converts the list above into a tuple, notice the parentheses!"
   ]
  },
  {
   "cell_type": "code",
   "execution_count": null,
   "metadata": {},
   "outputs": [],
   "source": [
    "list({\"a\", \"b\"} | {\"b\", \"c\"})"
   ]
  },
  {
   "cell_type": "markdown",
   "metadata": {},
   "source": [
    "<div class=\"alert alert-warning\">Remember: sets are unordered! So iterating them will yield the elements, but the order can't be guaranteed.</div>"
   ]
  },
  {
   "cell_type": "markdown",
   "metadata": {},
   "source": [
    "Some other times, conversion might proceed and lose information:"
   ]
  },
  {
   "cell_type": "code",
   "execution_count": null,
   "metadata": {
    "tags": []
   },
   "outputs": [],
   "source": [
    "int(1.5)"
   ]
  },
  {
   "cell_type": "markdown",
   "metadata": {},
   "source": [
    "Or directly fail:"
   ]
  },
  {
   "cell_type": "code",
   "execution_count": null,
   "metadata": {
    "tags": []
   },
   "outputs": [],
   "source": [
    "int(\"hello\")"
   ]
  },
  {
   "cell_type": "markdown",
   "metadata": {},
   "source": [
    "## Special sequences"
   ]
  },
  {
   "cell_type": "markdown",
   "metadata": {},
   "source": [
    "There are some special sequences in Python that are very useful, as it's the case with ranges:"
   ]
  },
  {
   "cell_type": "code",
   "execution_count": null,
   "metadata": {
    "tags": []
   },
   "outputs": [],
   "source": [
    "range(1, 10)"
   ]
  },
  {
   "cell_type": "markdown",
   "metadata": {},
   "source": [
    "That doesn't say much, but see what happens if you convert it to a list:"
   ]
  },
  {
   "cell_type": "code",
   "execution_count": null,
   "metadata": {
    "tags": []
   },
   "outputs": [],
   "source": [
    "list(range(1, 10))"
   ]
  },
  {
   "cell_type": "markdown",
   "metadata": {},
   "source": [
    "## Dictionaries"
   ]
  },
  {
   "cell_type": "markdown",
   "metadata": {},
   "source": [
    "After covering tuples and lists, the last essential data structure are dictionaries. Dictionaries are mappings between keys and values:"
   ]
  },
  {
   "cell_type": "code",
   "execution_count": null,
   "metadata": {},
   "outputs": [],
   "source": [
    "my_dictionary = {\n",
    "    \"key_1\": \"A\",\n",
    "    \"key_2\": \"B\",\n",
    "    \"key_3\": \"C\",\n",
    "}\n",
    "my_dictionary"
   ]
  },
  {
   "cell_type": "markdown",
   "metadata": {},
   "source": [
    "The keys and the values of the dictionary can be extracted separately:"
   ]
  },
  {
   "cell_type": "code",
   "execution_count": null,
   "metadata": {},
   "outputs": [],
   "source": [
    "my_dictionary.keys()"
   ]
  },
  {
   "cell_type": "code",
   "execution_count": null,
   "metadata": {},
   "outputs": [],
   "source": [
    "my_dictionary.values()"
   ]
  },
  {
   "cell_type": "markdown",
   "metadata": {},
   "source": [
    "And `.items()` can be used to extract pairs of `(key, value)`:"
   ]
  },
  {
   "cell_type": "code",
   "execution_count": null,
   "metadata": {},
   "outputs": [],
   "source": [
    "my_dictionary.items()"
   ]
  },
  {
   "cell_type": "markdown",
   "metadata": {},
   "source": [
    "These are special sequence-like objects that can be converted to, say, lists:"
   ]
  },
  {
   "cell_type": "code",
   "execution_count": null,
   "metadata": {},
   "outputs": [],
   "source": [
    "list(my_dictionary.keys())"
   ]
  },
  {
   "cell_type": "markdown",
   "metadata": {},
   "source": [
    "While sequences are indexed by position, dictionaries are indexed by key:"
   ]
  },
  {
   "cell_type": "code",
   "execution_count": null,
   "metadata": {},
   "outputs": [],
   "source": [
    "my_dictionary[\"key_1\"]"
   ]
  },
  {
   "cell_type": "markdown",
   "metadata": {},
   "source": [
    "Dictionaries are mutable, which means that you can add new keys or mutate existing values:"
   ]
  },
  {
   "cell_type": "code",
   "execution_count": null,
   "metadata": {},
   "outputs": [],
   "source": [
    "my_dictionary[\"key_4\"] = \"D\"\n",
    "my_dictionary[\"key_1\"] = \"a\"\n",
    "my_dictionary"
   ]
  },
  {
   "cell_type": "markdown",
   "metadata": {},
   "source": [
    "Only immutable (actually: [hashable](https://docs.python.org/3/glossary.html#term-hashable)) objects can be keys:"
   ]
  },
  {
   "cell_type": "code",
   "execution_count": null,
   "metadata": {},
   "outputs": [],
   "source": [
    "my_dictionary[[0]] = \"Zero\""
   ]
  },
  {
   "cell_type": "markdown",
   "metadata": {},
   "source": [
    "Dictionaries, lists, and tuples can be arbitrarily nested. For example:"
   ]
  },
  {
   "cell_type": "code",
   "execution_count": null,
   "metadata": {},
   "outputs": [],
   "source": [
    "data = [\n",
    "    {\n",
    "        \"created_at\": \"Wed Apr 22 06:04:57 +0000 2020\",\n",
    "        \"entities\": {\n",
    "            \"hashtags\": [\n",
    "                {\n",
    "                    \"text\": \"balboaisland\",\n",
    "                    \"indices\": [\n",
    "                        21,\n",
    "                        34\n",
    "                    ]\n",
    "                },\n",
    "                {\n",
    "                    \"text\": \"newportbeach\",\n",
    "                    \"indices\": [\n",
    "                        35,\n",
    "                        48\n",
    "                    ]\n",
    "                },\n",
    "            ]\n",
    "        }\n",
    "    }\n",
    "]"
   ]
  },
  {
   "cell_type": "code",
   "execution_count": null,
   "metadata": {},
   "outputs": [],
   "source": [
    "data[0][\"entities\"][\"hashtags\"][0][\"indices\"]"
   ]
  },
  {
   "cell_type": "markdown",
   "metadata": {},
   "source": [
    "Those are: lists, inside dictionaries, inside lists, inside dictionaries, inside dictionaries, inside a list."
   ]
  },
  {
   "cell_type": "markdown",
   "metadata": {},
   "source": [
    "## Basic import statements"
   ]
  },
  {
   "cell_type": "code",
   "execution_count": null,
   "metadata": {},
   "outputs": [],
   "source": [
    "from statistics import mean  # belongs to the standard library (stdlib)"
   ]
  },
  {
   "cell_type": "code",
   "execution_count": null,
   "metadata": {},
   "outputs": [],
   "source": [
    "mean([1, 3, 4])"
   ]
  },
  {
   "cell_type": "code",
   "execution_count": null,
   "metadata": {},
   "outputs": [],
   "source": [
    "import requests  # Not part of the stdlib, requires installing a package"
   ]
  },
  {
   "cell_type": "markdown",
   "metadata": {},
   "source": [
    "And potentially, you could `import` your own Python modules (more on that in a few weeks)."
   ]
  },
  {
   "cell_type": "markdown",
   "metadata": {},
   "source": [
    "## Exercises"
   ]
  },
  {
   "cell_type": "markdown",
   "metadata": {},
   "source": [
    "### 1. Basic questions about Bluesky data\n",
    "\n",
    "The file `bluesky_data.json` contains a subset of real Bluesky posts obtained from Failla, A. & Rossetti, G., 2024. “I’m in the Bluesky Tonight”: Insights from a year worth of social data F. Saracco, ed.. _Plos One_, 19(11), p.e0310330. Available at: https://doi.org/10.1371/journal.pone.0310330.\n",
    "\n",
    "The data was filtered running the following command over an incomplete download:\n",
    "\n",
    "```\n",
    "$ cat *.jsonl | jq -c 'select(.like_count > 5000)' | jq -c -s '.' > bluesky_more_5000_likes_compact.json\n",
    "```\n",
    "\n",
    "And then further filtered to remove profanity using https://github.com/zautumnz/profane-words/blob/c7fe112/words.json.\n",
    "\n",
    "These are the first 25 lines:\n",
    "\n",
    "```\n",
    "$ jq < data/bluesky_more_5000_likes_filtered.json | head -n25\n",
    "[\n",
    "  {\n",
    "    \"post_id\": 193115731,\n",
    "    \"user_id\": 2648,\n",
    "    \"instance\": \"ilovecitr.us\",\n",
    "    \"date\": 202403110052,\n",
    "    \"text\": \"Wins for Oppenheimer and Godzilla Minus One mean this is the first time a movie and its sequel both won Oscars the same year.\",\n",
    "    \"langs\": [\n",
    "      \"eng\"\n",
    "    ],\n",
    "    \"like_count\": 6300,\n",
    "    \"reply_count\": 50,\n",
    "    \"repost_count\": 2138,\n",
    "    \"reply_to\": null,\n",
    "    \"replied_author\": null,\n",
    "    \"thread_root\": null,\n",
    "    \"thread_root_author\": null,\n",
    "    \"repost_from\": 65676,\n",
    "    \"reposted_author\": 20990,\n",
    "    \"quotes\": null,\n",
    "    \"quoted_author\": null,\n",
    "    \"labels\": null,\n",
    "    \"sent_label\": 2,\n",
    "    \"sent_score\": 0.807\n",
    "  },\n",
    "```\n",
    "\n",
    "You can load it as a list of dictionaries using the code below."
   ]
  },
  {
   "cell_type": "code",
   "execution_count": null,
   "metadata": {},
   "outputs": [],
   "source": [
    "# import json\n",
    "import requests\n",
    "\n",
    "# DATA_URL = \"../data/bluesky_more_5000_likes_filtered.json\"\n",
    "DATA_URL = (\n",
    "    \"https://github.com/astrojuanlu/ie-mbd-python-data-analysis-i/\"\n",
    "    \"raw/main/data/bluesky_more_5000_likes_filtered.json\"\n",
    ")\n",
    "\n",
    "# data = json.load(open(DATA_URL))\n",
    "data = requests.get(DATA_URL).json()\n",
    "type(data), len(data)"
   ]
  },
  {
   "cell_type": "markdown",
   "metadata": {},
   "source": [
    "- What kind of object is `data`?\n",
    "- How many posts are in the dataset?\n",
    "- Does the text of the 34th post contain the word \"twitter\" in any capitalization?\n",
    "- Does the 76th post have more than 6 000 likes?\n",
    "- How many words does the text of the 111th post have?\n",
    "- How many times does the newline character (`\\n`) appear in the text of the 189th post?\n",
    "- How many languages appear in the 289th post?\n",
    "- Of the last 3 posts of the dataset, which one has the highest like count?\n",
    "- Are the last 3 posts of the dataset in chronological order? _(Tip: save each of them in a different variable, and then use a chained comparison)_"
   ]
  },
  {
   "cell_type": "code",
   "execution_count": null,
   "metadata": {},
   "outputs": [],
   "source": [
    "data[-3:]"
   ]
  },
  {
   "cell_type": "markdown",
   "metadata": {},
   "source": [
    "### 2. Advanced: Aggregate questions about Bluesky data\n",
    "\n",
    "- What are the languages of the most liked post?\n",
    "- What is the text of the most liked English-written post?\n",
    "- How many unique values of `instance` exist?\n",
    "- Excluding `bsky.social`, what's the instance with the largest number of posts?\n",
    "- On what weekday are posts more frequent?\n",
    "- Filter out posts with low confidence on the sentiment analysis (`sent_score < 0.8`) and plot word clouds for positive posts (`sent_label == 2`) and negative ones (`sent_label == 0`)"
   ]
  }
 ],
 "metadata": {
  "kernelspec": {
   "display_name": "Python 3 (ipykernel)",
   "language": "python",
   "name": "python3"
  },
  "language_info": {
   "codemirror_mode": {
    "name": "ipython",
    "version": 3
   },
   "file_extension": ".py",
   "mimetype": "text/x-python",
   "name": "python",
   "nbconvert_exporter": "python",
   "pygments_lexer": "ipython3",
   "version": "3.12.11"
  }
 },
 "nbformat": 4,
 "nbformat_minor": 4
}
