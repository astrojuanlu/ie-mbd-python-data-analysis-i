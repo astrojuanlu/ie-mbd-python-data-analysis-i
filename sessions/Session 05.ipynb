{
 "cells": [
  {
   "attachments": {},
   "cell_type": "markdown",
   "metadata": {},
   "source": [
    "# Session 05\n",
    "\n",
    "[![Open and Execute in Google Colaboratory](https://colab.research.google.com/assets/colab-badge.svg)](https://colab.research.google.com/github/astrojuanlu/ie-mbd-python-data-analysis-i/blob/main/sessions/Session%2005.ipynb)\n",
    "\n",
    "- Dictionaries, properties and methods\n",
    "- Basic import statements\n",
    "- Loading JSON data"
   ]
  },
  {
   "cell_type": "markdown",
   "metadata": {},
   "source": [
    "## Dictionaries"
   ]
  },
  {
   "cell_type": "markdown",
   "metadata": {},
   "source": [
    "After covering tuples and lists, the last essential data structure are dictionaries. Dictionaries are mappings between keys and values:"
   ]
  },
  {
   "cell_type": "code",
   "execution_count": null,
   "metadata": {},
   "outputs": [],
   "source": [
    "my_dictionary = {\n",
    "    \"key_1\": \"A\",\n",
    "    \"key_2\": \"B\",\n",
    "    \"key_3\": \"C\",\n",
    "}\n",
    "my_dictionary"
   ]
  },
  {
   "cell_type": "markdown",
   "metadata": {},
   "source": [
    "The keys and the values of the dictionary can be extracted separately:"
   ]
  },
  {
   "cell_type": "code",
   "execution_count": null,
   "metadata": {},
   "outputs": [],
   "source": [
    "my_dictionary.keys()"
   ]
  },
  {
   "cell_type": "code",
   "execution_count": null,
   "metadata": {},
   "outputs": [],
   "source": [
    "my_dictionary.values()"
   ]
  },
  {
   "cell_type": "markdown",
   "metadata": {},
   "source": [
    "And `.items()` can be used to extract pairs of `(key, value)`:"
   ]
  },
  {
   "cell_type": "code",
   "execution_count": null,
   "metadata": {},
   "outputs": [],
   "source": [
    "my_dictionary.items()"
   ]
  },
  {
   "cell_type": "markdown",
   "metadata": {},
   "source": [
    "While sequences are indexed by position, dictionaries are indexed by key:"
   ]
  },
  {
   "cell_type": "code",
   "execution_count": null,
   "metadata": {},
   "outputs": [],
   "source": [
    "my_dictionary[\"key_1\"]"
   ]
  },
  {
   "cell_type": "markdown",
   "metadata": {},
   "source": [
    "Dictionaries are mutable, which means that you can add new keys or mutate existing values:"
   ]
  },
  {
   "cell_type": "code",
   "execution_count": null,
   "metadata": {},
   "outputs": [],
   "source": [
    "my_dictionary[\"key_4\"] = \"D\"\n",
    "my_dictionary[\"key_1\"] = \"a\"\n",
    "my_dictionary"
   ]
  },
  {
   "cell_type": "markdown",
   "metadata": {},
   "source": [
    "Only immutable (actually: [hashable](https://docs.python.org/3/glossary.html#term-hashable)) objects can be keys:"
   ]
  },
  {
   "cell_type": "code",
   "execution_count": null,
   "metadata": {},
   "outputs": [],
   "source": [
    "my_dictionary[[0]] = \"Zero\""
   ]
  },
  {
   "cell_type": "markdown",
   "metadata": {},
   "source": [
    "Dictionaries, lists, and tuples can be arbitrarily nested. For example, this is an excerpt of a tweet represented as JSON data (see `data/twitter_data.json`):"
   ]
  },
  {
   "cell_type": "code",
   "execution_count": null,
   "metadata": {},
   "outputs": [],
   "source": [
    "data = [\n",
    "    {\n",
    "        \"created_at\": \"Wed Apr 22 06:04:57 +0000 2020\",\n",
    "        \"entities\": {\n",
    "            \"hashtags\": [\n",
    "                {\n",
    "                    \"text\": \"balboaisland\",\n",
    "                    \"indices\": [\n",
    "                        21,\n",
    "                        34\n",
    "                    ]\n",
    "                },\n",
    "                {\n",
    "                    \"text\": \"newportbeach\",\n",
    "                    \"indices\": [\n",
    "                        35,\n",
    "                        48\n",
    "                    ]\n",
    "                },\n",
    "            ]\n",
    "        }\n",
    "    }\n",
    "]"
   ]
  },
  {
   "cell_type": "code",
   "execution_count": null,
   "metadata": {},
   "outputs": [],
   "source": [
    "data[0][\"entities\"][\"hashtags\"][0][\"indices\"]"
   ]
  },
  {
   "cell_type": "markdown",
   "metadata": {},
   "source": [
    "Those are: lists, inside dictionaries, inside lists, inside dictionaries, inside dictionaries, inside a list."
   ]
  },
  {
   "cell_type": "markdown",
   "metadata": {},
   "source": [
    "## Basic import statements"
   ]
  },
  {
   "cell_type": "code",
   "execution_count": null,
   "metadata": {},
   "outputs": [],
   "source": [
    "from statistics import mean  # belongs to the standard library (stdlib)"
   ]
  },
  {
   "cell_type": "code",
   "execution_count": null,
   "metadata": {},
   "outputs": [],
   "source": [
    "mean([1, 3, 4])"
   ]
  },
  {
   "cell_type": "code",
   "execution_count": null,
   "metadata": {},
   "outputs": [],
   "source": [
    "import requests  # Not part of the stdlib, requires installing a package"
   ]
  },
  {
   "cell_type": "markdown",
   "metadata": {},
   "source": [
    "And potentially, you could `import` your own Python modules (more on that in a few weeks)."
   ]
  },
  {
   "cell_type": "markdown",
   "metadata": {},
   "source": [
    "## Exercises"
   ]
  },
  {
   "cell_type": "markdown",
   "metadata": {},
   "source": [
    "### Twitter data\n",
    "\n",
    "The file `twitter_data.json` contains a subset of real tweets obtained from http://covid19research.site/geo-tagged_twitter_datasets/, with full metadata as retrieved by the Twitter API. These are the first 10 lines:\n",
    "\n",
    "```\n",
    "[\n",
    "  {\n",
    "    \"created_at\": \"Wed Apr 22 06:04:57 +0000 2020\",\n",
    "    \"id\": 1252840795737997317,\n",
    "    \"id_str\": \"1252840795737997317\",\n",
    "    \"text\": \"Tennis a la Balboa.\\n\\n#balboaisland #newportbeach #tennis #covid_19 #coronavirus #orangecounty #california\\u2026 https://t.co/px1GCH1bgZ\",\n",
    "    \"truncated\": true,\n",
    "    \"entities\": {\n",
    "      \"hashtags\": [\n",
    "        {\n",
    "```\n",
    "\n",
    "You can load it as a list of dictionaries using the code below."
   ]
  },
  {
   "cell_type": "code",
   "execution_count": null,
   "metadata": {},
   "outputs": [],
   "source": [
    "import requests\n",
    "\n",
    "DATA_URL = (\n",
    "    \"https://github.com/astrojuanlu/ie-mbd-python-data-analysis-i/\"\n",
    "    \"raw/main/data/twitter_data.json\"\n",
    ")\n",
    "\n",
    "data = requests.get(DATA_URL).json()\n",
    "print(type(data), len(data))"
   ]
  },
  {
   "cell_type": "code",
   "execution_count": null,
   "metadata": {},
   "outputs": [],
   "source": []
  }
 ],
 "metadata": {
  "kernelspec": {
   "display_name": "Python 3 (ipykernel)",
   "language": "python",
   "name": "python3"
  },
  "language_info": {
   "codemirror_mode": {
    "name": "ipython",
    "version": 3
   },
   "file_extension": ".py",
   "mimetype": "text/x-python",
   "name": "python",
   "nbconvert_exporter": "python",
   "pygments_lexer": "ipython3",
   "version": "3.12.11"
  }
 },
 "nbformat": 4,
 "nbformat_minor": 4
}
