{
 "cells": [
  {
   "attachments": {},
   "cell_type": "markdown",
   "metadata": {},
   "source": [
    "# Session 05\n",
    "\n",
    "[![Open and Execute in Google Colaboratory](https://colab.research.google.com/assets/colab-badge.svg)](https://colab.research.google.com/github/astrojuanlu/ie-mbd-python-data-analysis-i/blob/main/sessions/Session%2005.ipynb)\n",
    "\n",
    "- Making sense of chained operations\n",
    "- Dealing with information in several containers\n",
    "- Learning about unique values\n",
    "- Storing information and mutating it"
   ]
  },
  {
   "attachments": {},
   "cell_type": "markdown",
   "metadata": {},
   "source": [
    "## Making sense of chained operations\n",
    "\n",
    "It is common to chain different operations in Python, which can make the code more difficult to follow for the uninitiated. For example:"
   ]
  },
  {
   "cell_type": "code",
   "execution_count": 88,
   "metadata": {
    "tags": []
   },
   "outputs": [
    {
     "data": {
      "text/plain": [
       "['ie', 'edu']"
      ]
     },
     "execution_count": 88,
     "metadata": {},
     "output_type": "execute_result"
    }
   ],
   "source": [
    "\"jcano@faculty.ie.edu\".split(\"@\")[-1].split(\".\")[-2:]"
   ]
  },
  {
   "cell_type": "markdown",
   "metadata": {},
   "source": [
    "Let's examine what's happening here:"
   ]
  },
  {
   "cell_type": "code",
   "execution_count": 89,
   "metadata": {
    "tags": []
   },
   "outputs": [
    {
     "data": {
      "text/plain": [
       "['ie', 'edu']"
      ]
     },
     "execution_count": 89,
     "metadata": {},
     "output_type": "execute_result"
    }
   ],
   "source": [
    "(\n",
    "    \"jcano@faculty.ie.edu\"  # string\n",
    "    .split(\"@\")  # str.split returns a list of two elements\n",
    "    [-1]  # pick the last element of the list, which is a string\n",
    "    .split(\".\")  # str.split returns another list\n",
    "    [-2:]  # slice from the second-to-last element onwards\n",
    ")"
   ]
  },
  {
   "cell_type": "markdown",
   "metadata": {},
   "source": [
    "Symbols have different meanings in different contexts:\n",
    "\n",
    "- Square brackets `[]` are used for indexing & slicing and list creation\n",
    "- Parentheses `()` are used for function calls and grouping (notice that tuples can be created without parentheses, just using commas)\n",
    "- Braces `{}` are used for dictionary creation and set creation\n",
    "\n",
    "Therefore, rather than thinking in terms of \"what symbol do I need here\", first build an understanding of \"what operation do I need to perform\"."
   ]
  },
  {
   "cell_type": "code",
   "execution_count": 90,
   "metadata": {
    "tags": []
   },
   "outputs": [
    {
     "data": {
      "text/plain": [
       "[0]"
      ]
     },
     "execution_count": 90,
     "metadata": {},
     "output_type": "execute_result"
    }
   ],
   "source": [
    "# A list with a zero\n",
    "[0]"
   ]
  },
  {
   "cell_type": "code",
   "execution_count": 91,
   "metadata": {
    "tags": []
   },
   "outputs": [
    {
     "data": {
      "text/plain": [
       "'a'"
      ]
     },
     "execution_count": 91,
     "metadata": {},
     "output_type": "execute_result"
    }
   ],
   "source": [
    "# Indexing the first character of a string\n",
    "\"abc\"[0]"
   ]
  },
  {
   "cell_type": "markdown",
   "metadata": {},
   "source": [
    "To understand or debug a long line of code, try storing the intermediate results in variables. This will help you see what type do they have and methods are allowed:"
   ]
  },
  {
   "cell_type": "code",
   "execution_count": 87,
   "metadata": {
    "tags": []
   },
   "outputs": [
    {
     "data": {
      "text/plain": [
       "['ie', 'edu']"
      ]
     },
     "execution_count": 87,
     "metadata": {},
     "output_type": "execute_result"
    }
   ],
   "source": [
    "parts = \"jcano@faculty.ie.edu\".split(\"@\")\n",
    "domain = parts[-1]\n",
    "domain_parts = domain.split(\".\")\n",
    "host_tld = domain_parts[-2:]\n",
    "host_tld"
   ]
  },
  {
   "cell_type": "markdown",
   "metadata": {},
   "source": [
    "## Exercises"
   ]
  },
  {
   "cell_type": "markdown",
   "metadata": {},
   "source": [
    "### Rick & Morty shows data"
   ]
  },
  {
   "cell_type": "code",
   "execution_count": 1,
   "metadata": {
    "execution": {
     "iopub.execute_input": "2022-10-25T15:01:07.092783Z",
     "iopub.status.busy": "2022-10-25T15:01:07.091984Z",
     "iopub.status.idle": "2022-10-25T15:01:07.671224Z",
     "shell.execute_reply": "2022-10-25T15:01:07.669819Z",
     "shell.execute_reply.started": "2022-10-25T15:01:07.092578Z"
    }
   },
   "outputs": [
    {
     "name": "stdout",
     "output_type": "stream",
     "text": [
      "<class 'dict'> 24\n"
     ]
    }
   ],
   "source": [
    "import requests\n",
    "\n",
    "DATA_URL = (\n",
    "    \"https://github.com/astrojuanlu/ie-mbd-python-data-analysis-i/\"\n",
    "    \"raw/main/data/rick-and-morty.json\"\n",
    ")\n",
    "\n",
    "data = requests.get(DATA_URL).json()\n",
    "print(type(data), len(data))"
   ]
  },
  {
   "cell_type": "markdown",
   "metadata": {},
   "source": [
    "- How many episodes were there in the show in total?\n",
    "- How many episodes did each season have?\n",
    "- What's the average and standard deviation of the average rating of all the episodes?\n",
    "- What are the 15 most common words repeated in all summaries?\n",
    "- Same as above, but excluding common English stopwords (\"a\", \"to\", \"and\", \"the\", \"of\", ...)"
   ]
  }
 ],
 "metadata": {
  "kernelspec": {
   "display_name": "Python 3 (ipykernel)",
   "language": "python",
   "name": "python3"
  },
  "language_info": {
   "codemirror_mode": {
    "name": "ipython",
    "version": 3
   },
   "file_extension": ".py",
   "mimetype": "text/x-python",
   "name": "python",
   "nbconvert_exporter": "python",
   "pygments_lexer": "ipython3",
   "version": "3.12.11"
  }
 },
 "nbformat": 4,
 "nbformat_minor": 4
}
