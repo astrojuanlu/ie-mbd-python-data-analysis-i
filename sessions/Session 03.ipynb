{
 "cells": [
  {
   "attachments": {},
   "cell_type": "markdown",
   "metadata": {},
   "source": [
    "# Session 03\n",
    "\n",
    "[![Open and Execute in Google Colaboratory](https://colab.research.google.com/assets/colab-badge.svg)](https://colab.research.google.com/github/astrojuanlu/ie-mbd-python-data-analysis-i/blob/main/sessions/Session%2003.ipynb)\n",
    "\n",
    "- Strings\n",
    "- Slicing and indexing\n",
    "- Data structure concepts: mutability and order\n",
    "- Tuples, properties and methods"
   ]
  },
  {
   "cell_type": "markdown",
   "metadata": {},
   "source": [
    "## Strings"
   ]
  },
  {
   "cell_type": "markdown",
   "metadata": {},
   "source": [
    "Python can also manipulate text using so-called strings, wrapped in either double or single quotes. Double quotes are preferred."
   ]
  },
  {
   "cell_type": "code",
   "execution_count": null,
   "metadata": {},
   "outputs": [],
   "source": [
    "name = \"Juan Luis\"\n",
    "name"
   ]
  },
  {
   "cell_type": "markdown",
   "metadata": {},
   "source": [
    "Such strings can be operated together as well. For example, strings overload the mathematical addition operator `+` to perform concatenation:"
   ]
  },
  {
   "cell_type": "code",
   "execution_count": null,
   "metadata": {},
   "outputs": [],
   "source": [
    "\"Juan\" + \" \" + \"Luis\""
   ]
  },
  {
   "cell_type": "markdown",
   "metadata": {},
   "source": [
    "Strings contain characters, and they can be extracted with an operation called indexing:"
   ]
  },
  {
   "cell_type": "code",
   "execution_count": null,
   "metadata": {
    "tags": []
   },
   "outputs": [],
   "source": [
    "name = \"Juan Luis\"\n",
    "name"
   ]
  },
  {
   "cell_type": "markdown",
   "metadata": {},
   "source": [
    "Also, strings have _methods_: functions that are attached to them. They are accessed using the dot (`.`):"
   ]
  },
  {
   "cell_type": "code",
   "execution_count": null,
   "metadata": {
    "tags": []
   },
   "outputs": [],
   "source": [
    "name.lower()  # `lower` returns a string with all characters in lowercase"
   ]
  },
  {
   "cell_type": "markdown",
   "metadata": {},
   "source": [
    "<div class=\"alert alert-info\">For a list of all string methods, see the documentation at https://docs.python.org/3/library/stdtypes.html#string-methods</div>"
   ]
  },
  {
   "attachments": {},
   "cell_type": "markdown",
   "metadata": {},
   "source": [
    "## Indexing and slicing\n",
    "\n",
    "The number zero `0` corresponds to the first element, `1` to the second, and so forth. Think of it as an offset:"
   ]
  },
  {
   "cell_type": "code",
   "execution_count": null,
   "metadata": {
    "tags": []
   },
   "outputs": [],
   "source": [
    "name[0]"
   ]
  },
  {
   "cell_type": "code",
   "execution_count": null,
   "metadata": {
    "tags": []
   },
   "outputs": [],
   "source": [
    "name[1]"
   ]
  },
  {
   "cell_type": "markdown",
   "metadata": {},
   "source": [
    "Negative indices start from the end:"
   ]
  },
  {
   "cell_type": "code",
   "execution_count": null,
   "metadata": {
    "tags": []
   },
   "outputs": [],
   "source": [
    "name[-1]"
   ]
  },
  {
   "cell_type": "code",
   "execution_count": null,
   "metadata": {
    "tags": []
   },
   "outputs": [],
   "source": [
    "name[-2]"
   ]
  },
  {
   "cell_type": "markdown",
   "metadata": {},
   "source": [
    "You can return the length of the string using the built-in function `len`:"
   ]
  },
  {
   "cell_type": "code",
   "execution_count": null,
   "metadata": {
    "tags": []
   },
   "outputs": [],
   "source": [
    "len(name)"
   ]
  },
  {
   "cell_type": "markdown",
   "metadata": {},
   "source": [
    "To obtain a portion of the string, you use a similar syntax, which in this case is called slicing:"
   ]
  },
  {
   "cell_type": "code",
   "execution_count": null,
   "metadata": {
    "tags": []
   },
   "outputs": [],
   "source": [
    "name[1:5]"
   ]
  },
  {
   "cell_type": "markdown",
   "metadata": {},
   "source": [
    "Some notes:\n",
    "\n",
    "- The syntax is `[start_index:end_index:step]`\n",
    "- When an element is not specified, the default is used\n",
    "  - The default start is `0` (the beginning)\n",
    "  - The default end is the end\n",
    "  - The default step is one `1`"
   ]
  },
  {
   "cell_type": "code",
   "execution_count": null,
   "metadata": {
    "tags": []
   },
   "outputs": [],
   "source": [
    "name[1::2]"
   ]
  },
  {
   "cell_type": "markdown",
   "metadata": {},
   "source": [
    "## Mutability and order\n",
    "\n",
    "In Python, everything is an object. Those objects live in memory, and variables point to them.\n",
    "\n",
    "Sometimes we can rearrange or change the underlying object in memory. When this happens, we say that these objects are **mutable**.\n",
    "\n",
    "We have already seen strings. Strings are immutable: the underlying memory cannot be altered. Trying to do so results in an error:"
   ]
  },
  {
   "cell_type": "code",
   "execution_count": null,
   "metadata": {
    "tags": []
   },
   "outputs": [],
   "source": [
    "name = \"John Lewis\"\n",
    "\n",
    "name[0] = \"X\""
   ]
  },
  {
   "cell_type": "markdown",
   "metadata": {},
   "source": [
    "Notice that overwriting a variable's value is a different operation!"
   ]
  },
  {
   "cell_type": "code",
   "execution_count": null,
   "metadata": {},
   "outputs": [],
   "source": [
    "name = \"Juan Luis\"  # `name` now points to a different object!\n",
    "name"
   ]
  },
  {
   "cell_type": "markdown",
   "metadata": {},
   "source": [
    "## Tuples"
   ]
  },
  {
   "cell_type": "markdown",
   "metadata": {},
   "source": [
    "Tuples, unlike strings, are heterogeneous containers: their individual elements can be numbers, strings, other tuples, or any other object."
   ]
  },
  {
   "cell_type": "code",
   "execution_count": null,
   "metadata": {
    "tags": []
   },
   "outputs": [],
   "source": [
    "my_tuple = 1, 2.0, \"3\", \"four\"\n",
    "my_tuple"
   ]
  },
  {
   "cell_type": "code",
   "execution_count": null,
   "metadata": {
    "tags": []
   },
   "outputs": [],
   "source": [
    "my_tuple[0]"
   ]
  },
  {
   "cell_type": "code",
   "execution_count": null,
   "metadata": {
    "tags": []
   },
   "outputs": [],
   "source": [
    "len(my_tuple)"
   ]
  },
  {
   "cell_type": "markdown",
   "metadata": {},
   "source": [
    "Tuples, like strings, are also immutable:"
   ]
  },
  {
   "cell_type": "code",
   "execution_count": null,
   "metadata": {
    "tags": []
   },
   "outputs": [],
   "source": [
    "my_tuple[0] = -1"
   ]
  },
  {
   "cell_type": "markdown",
   "metadata": {},
   "source": [
    "## Exercises"
   ]
  },
  {
   "cell_type": "markdown",
   "metadata": {},
   "source": [
    "### 1. Find string methods\n",
    "\n",
    "Find which `str` methods achieve this result:\n",
    "\n",
    "| Original | Transformed |\n",
    "| --- | --- |\n",
    "| `\"Tim O'Reilly\"` | `\"tim o'reilly\"` |\n",
    "| `\"Tim O'Reilly\"` | `\"Tom O'Reolly\"` |\n",
    "| `\"tim o'reilly\"` | `\"Tim O'Reilly\"` |\n",
    "| `\"Tim O'Reilly\"` | `\"tIM o'rEILLY\"` |\n",
    "| `\"Tim O'Reilly\"` | `\"    Tim O'Reilly    \"` (20 chars) |\n",
    "| `\"Tim O'Reilly\"` | `\"tIM o'rEILLY\"` |"
   ]
  },
  {
   "cell_type": "markdown",
   "metadata": {},
   "source": [
    "### 2. Categorize our clients\n",
    "\n",
    "We want to categorize clients of our telecom company according to some features, and bucket them into 2 groups:\n",
    "\n",
    "- Women aged 20 to 25 (both included) or users with any gender younger than 20, in both cases with average monthly data consumption over 5 GB\n",
    "- Men aged 35 to 45 with average monthly data consumption between 2 and 5 GB, or women aged 30 to 40 with average monthly data consumption between 3 and 8 GB\n",
    "\n",
    "To what groups does each user belong?\n",
    "\n",
    "_Tip: Make each user a tuple_\n",
    "\n",
    "| Id | Age (years) | Sex | Average monthly consumption (GB) |\n",
    "| --- | --- | --- | --- |\n",
    "| 1 | 40 | male | 10.2 |\n",
    "| 2 | 50 | female | 5.4 |\n",
    "| 3 | 23 | female | 8.0 |\n",
    "| 4 | 18 | male | 2.5 |"
   ]
  }
 ],
 "metadata": {
  "kernelspec": {
   "display_name": "Python 3 (ipykernel)",
   "language": "python",
   "name": "python3"
  },
  "language_info": {
   "codemirror_mode": {
    "name": "ipython",
    "version": 3
   },
   "file_extension": ".py",
   "mimetype": "text/x-python",
   "name": "python",
   "nbconvert_exporter": "python",
   "pygments_lexer": "ipython3",
   "version": "3.12.11"
  }
 },
 "nbformat": 4,
 "nbformat_minor": 4
}
