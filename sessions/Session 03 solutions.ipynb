{
 "cells": [
  {
   "cell_type": "code",
   "execution_count": null,
   "id": "69b6fed2-00da-48fc-9954-068e3032e593",
   "metadata": {},
   "outputs": [],
   "source": [
    "year = 1900\n",
    "\n",
    "(\n",
    "    (year % 4 == 0)\n",
    "    and ((not (year % 100 == 0)) or (year % 400 == 0))\n",
    ")"
   ]
  },
  {
   "cell_type": "code",
   "execution_count": null,
   "id": "9133430e-7d6d-4c25-aae4-ebb73b81ea73",
   "metadata": {},
   "outputs": [],
   "source": [
    "c0 = (1, 40, \"male\", 10.2)\n",
    "c1 = (2, 50, \"female\", 5.4)\n",
    "c2 = (3, 23, \"female\", 8.0)\n",
    "c3 = (4, 18, \"male\", 2.5),"
   ]
  },
  {
   "cell_type": "code",
   "execution_count": null,
   "id": "6bac548d-a1c8-49f7-baf1-e0615e8c781a",
   "metadata": {},
   "outputs": [],
   "source": [
    "id_, age, sex, consumption = c0\n",
    "\n",
    "(\n",
    "    (\n",
    "        ((sex == \"female\") and (20 <= age <= 25))\n",
    "        or (age < 20)\n",
    "    )\n",
    "    and consumption > 5\n",
    ")"
   ]
  },
  {
   "cell_type": "code",
   "execution_count": null,
   "id": "89697537-21c2-4425-a142-36654419f869",
   "metadata": {},
   "outputs": [],
   "source": [
    "(\n",
    "    ((sex == \"male\") and (35 <= age <= 45) and (2 <= consumption <= 5))\n",
    "    or ((sex == \"female\") and (30 <= age <= 40) and (3 <= consumption <= 8))\n",
    ")"
   ]
  },
  {
   "cell_type": "code",
   "execution_count": null,
   "id": "b9320c53-81cc-4efb-a1dc-307b52bae1bf",
   "metadata": {},
   "outputs": [],
   "source": [
    "name = \"Tim O'Reilly\"\n",
    "name"
   ]
  },
  {
   "cell_type": "code",
   "execution_count": null,
   "id": "4ac94983-687c-4e03-af9a-e722aa061df6",
   "metadata": {},
   "outputs": [],
   "source": [
    "name.lower()"
   ]
  },
  {
   "cell_type": "code",
   "execution_count": null,
   "id": "e020f92f-1c6b-4bb4-83b6-2ec16e1f2fa0",
   "metadata": {},
   "outputs": [],
   "source": [
    "name.replace(\"i\", \"o\")"
   ]
  },
  {
   "cell_type": "code",
   "execution_count": null,
   "id": "434f5fb7-29fb-48e8-bc79-2516a2870f8d",
   "metadata": {
    "tags": []
   },
   "outputs": [],
   "source": [
    "name.lower().title()"
   ]
  },
  {
   "cell_type": "code",
   "execution_count": null,
   "id": "dc8962e7-b240-4f32-9920-b9f41e5f41fb",
   "metadata": {},
   "outputs": [],
   "source": [
    "name.center(20)"
   ]
  },
  {
   "cell_type": "code",
   "execution_count": null,
   "id": "27ced72e-8c73-4e64-9acb-77fadcfa2fdd",
   "metadata": {},
   "outputs": [],
   "source": [
    "name.swapcase()"
   ]
  }
 ],
 "metadata": {
  "kernelspec": {
   "display_name": "Python 3 (ipykernel)",
   "language": "python",
   "name": "python3"
  },
  "language_info": {
   "codemirror_mode": {
    "name": "ipython",
    "version": 3
   },
   "file_extension": ".py",
   "mimetype": "text/x-python",
   "name": "python",
   "nbconvert_exporter": "python",
   "pygments_lexer": "ipython3",
   "version": "3.12.11"
  }
 },
 "nbformat": 4,
 "nbformat_minor": 5
}
