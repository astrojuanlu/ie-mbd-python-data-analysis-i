{
 "cells": [
  {
   "attachments": {},
   "cell_type": "markdown",
   "metadata": {},
   "source": [
    "# Session 02\n",
    "\n",
    "[![Open and Execute in Google Colaboratory](https://colab.research.google.com/assets/colab-badge.svg)](https://colab.research.google.com/github/astrojuanlu/ie-mbd-python-data-analysis-i/blob/main/sessions/Session%2002.ipynb)\n",
    "\n",
    "- Python as a calculator: Basic numeric types\n",
    "- Floating point arithmetic\n",
    "- Anatomy of a Python error\n",
    "- Built-in Python functions\n",
    "- What are variables, how to point them to data"
   ]
  },
  {
   "cell_type": "markdown",
   "metadata": {},
   "source": [
    "## Python as a calculator"
   ]
  },
  {
   "cell_type": "markdown",
   "metadata": {},
   "source": [
    "Python as a simple calculator:"
   ]
  },
  {
   "cell_type": "code",
   "execution_count": 1,
   "metadata": {
    "execution": {
     "iopub.execute_input": "2022-10-04T20:44:28.400584Z",
     "iopub.status.busy": "2022-10-04T20:44:28.400407Z",
     "iopub.status.idle": "2022-10-04T20:44:28.408250Z",
     "shell.execute_reply": "2022-10-04T20:44:28.407915Z",
     "shell.execute_reply.started": "2022-10-04T20:44:28.400546Z"
    }
   },
   "outputs": [
    {
     "data": {
      "text/plain": [
       "4"
      ]
     },
     "execution_count": 1,
     "metadata": {},
     "output_type": "execute_result"
    }
   ],
   "source": [
    "2 + 2"
   ]
  },
  {
   "cell_type": "markdown",
   "metadata": {},
   "source": [
    "In Jupyter, we execute code in cells. Each cell is automatically numbered and can contain several lines of code. The output of the last line is always shown:"
   ]
  },
  {
   "cell_type": "code",
   "execution_count": 2,
   "metadata": {
    "execution": {
     "iopub.execute_input": "2022-10-04T20:45:13.879057Z",
     "iopub.status.busy": "2022-10-04T20:45:13.878939Z",
     "iopub.status.idle": "2022-10-04T20:45:13.882424Z",
     "shell.execute_reply": "2022-10-04T20:45:13.882087Z",
     "shell.execute_reply.started": "2022-10-04T20:45:13.879047Z"
    }
   },
   "outputs": [
    {
     "data": {
      "text/plain": [
       "6"
      ]
     },
     "execution_count": 2,
     "metadata": {},
     "output_type": "execute_result"
    }
   ],
   "source": [
    "1 + 1\n",
    "2 + 2\n",
    "3 + 3"
   ]
  },
  {
   "cell_type": "markdown",
   "metadata": {},
   "source": [
    "Jupyter generates some automatic variables prefixed with underscores that refer to the numbered cells. For example, variable `_2` contains the output of cell number 2:"
   ]
  },
  {
   "cell_type": "code",
   "execution_count": 3,
   "metadata": {
    "execution": {
     "iopub.execute_input": "2022-10-04T20:45:57.611665Z",
     "iopub.status.busy": "2022-10-04T20:45:57.611520Z",
     "iopub.status.idle": "2022-10-04T20:45:57.614599Z",
     "shell.execute_reply": "2022-10-04T20:45:57.614245Z",
     "shell.execute_reply.started": "2022-10-04T20:45:57.611654Z"
    }
   },
   "outputs": [
    {
     "data": {
      "text/plain": [
       "6"
      ]
     },
     "execution_count": 3,
     "metadata": {},
     "output_type": "execute_result"
    }
   ],
   "source": [
    "_2"
   ]
  },
  {
   "cell_type": "markdown",
   "metadata": {},
   "source": [
    "All the usual mathematical operations are supported:"
   ]
  },
  {
   "cell_type": "code",
   "execution_count": 4,
   "metadata": {
    "execution": {
     "iopub.execute_input": "2022-10-04T20:46:40.472184Z",
     "iopub.status.busy": "2022-10-04T20:46:40.472068Z",
     "iopub.status.idle": "2022-10-04T20:46:40.474722Z",
     "shell.execute_reply": "2022-10-04T20:46:40.474492Z",
     "shell.execute_reply.started": "2022-10-04T20:46:40.472174Z"
    }
   },
   "outputs": [
    {
     "data": {
      "text/plain": [
       "16"
      ]
     },
     "execution_count": 4,
     "metadata": {},
     "output_type": "execute_result"
    }
   ],
   "source": [
    "2 ** 4"
   ]
  },
  {
   "cell_type": "markdown",
   "metadata": {},
   "source": [
    "<div class=\"alert alert-info\">For a list of all operations, see the documentation at https://docs.python.org/3/library/stdtypes.html#numeric-types-int-float-complex</div>"
   ]
  },
  {
   "cell_type": "markdown",
   "metadata": {},
   "source": [
    "Floating point arithmetic follows [some special rules](https://floating-point-gui.de/). No need to understand them in depth, just beware of surprising results:"
   ]
  },
  {
   "cell_type": "code",
   "execution_count": 5,
   "metadata": {
    "execution": {
     "iopub.execute_input": "2022-10-04T20:47:39.217778Z",
     "iopub.status.busy": "2022-10-04T20:47:39.217604Z",
     "iopub.status.idle": "2022-10-04T20:47:39.220707Z",
     "shell.execute_reply": "2022-10-04T20:47:39.220497Z",
     "shell.execute_reply.started": "2022-10-04T20:47:39.217762Z"
    }
   },
   "outputs": [
    {
     "data": {
      "text/plain": [
       "3.0"
      ]
     },
     "execution_count": 5,
     "metadata": {},
     "output_type": "execute_result"
    }
   ],
   "source": [
    "1.0 + 2.0"
   ]
  },
  {
   "cell_type": "code",
   "execution_count": 6,
   "metadata": {
    "execution": {
     "iopub.execute_input": "2022-10-04T20:47:41.454265Z",
     "iopub.status.busy": "2022-10-04T20:47:41.454096Z",
     "iopub.status.idle": "2022-10-04T20:47:41.456921Z",
     "shell.execute_reply": "2022-10-04T20:47:41.456681Z",
     "shell.execute_reply.started": "2022-10-04T20:47:41.454253Z"
    }
   },
   "outputs": [
    {
     "data": {
      "text/plain": [
       "0.30000000000000004"
      ]
     },
     "execution_count": 6,
     "metadata": {},
     "output_type": "execute_result"
    }
   ],
   "source": [
    "0.1 + 0.2"
   ]
  },
  {
   "cell_type": "code",
   "execution_count": 7,
   "metadata": {
    "execution": {
     "iopub.execute_input": "2022-10-04T20:47:45.698847Z",
     "iopub.status.busy": "2022-10-04T20:47:45.698659Z",
     "iopub.status.idle": "2022-10-04T20:47:45.701096Z",
     "shell.execute_reply": "2022-10-04T20:47:45.700845Z",
     "shell.execute_reply.started": "2022-10-04T20:47:45.698835Z"
    }
   },
   "outputs": [
    {
     "data": {
      "text/plain": [
       "0.5"
      ]
     },
     "execution_count": 7,
     "metadata": {},
     "output_type": "execute_result"
    }
   ],
   "source": [
    "0.2 + 0.3"
   ]
  },
  {
   "cell_type": "markdown",
   "metadata": {},
   "source": [
    "Lists are heterogeneous, mutable containers. To create them, use square brackets:"
   ]
  },
  {
   "cell_type": "code",
   "execution_count": 15,
   "metadata": {
    "execution": {
     "iopub.execute_input": "2022-10-07T13:32:28.013550Z",
     "iopub.status.busy": "2022-10-07T13:32:28.013022Z",
     "iopub.status.idle": "2022-10-07T13:32:28.020745Z",
     "shell.execute_reply": "2022-10-07T13:32:28.020146Z",
     "shell.execute_reply.started": "2022-10-07T13:32:28.013490Z"
    },
    "tags": []
   },
   "outputs": [
    {
     "data": {
      "text/plain": [
       "[1, 2.0, '3', 'four']"
      ]
     },
     "execution_count": 15,
     "metadata": {},
     "output_type": "execute_result"
    }
   ],
   "source": [
    "my_list = [1, 2.0, \"3\", \"four\"]\n",
    "my_list"
   ]
  },
  {
   "cell_type": "markdown",
   "metadata": {},
   "source": [
    "<div class=\"alert alert-warning\">Square brackets are used for two purposes in Python: (1) indexing/slicing and (2) creating lists. Don't confuse the two: the former will always go next to an object!</div>"
   ]
  },
  {
   "cell_type": "code",
   "execution_count": 16,
   "metadata": {
    "execution": {
     "iopub.execute_input": "2022-10-07T13:32:28.444032Z",
     "iopub.status.busy": "2022-10-07T13:32:28.443558Z",
     "iopub.status.idle": "2022-10-07T13:32:28.450710Z",
     "shell.execute_reply": "2022-10-07T13:32:28.450247Z",
     "shell.execute_reply.started": "2022-10-07T13:32:28.443981Z"
    },
    "tags": []
   },
   "outputs": [
    {
     "data": {
      "text/plain": [
       "1"
      ]
     },
     "execution_count": 16,
     "metadata": {},
     "output_type": "execute_result"
    }
   ],
   "source": [
    "my_list[0]  # Indexing a list"
   ]
  },
  {
   "cell_type": "code",
   "execution_count": 17,
   "metadata": {
    "execution": {
     "iopub.execute_input": "2022-10-07T13:32:28.656691Z",
     "iopub.status.busy": "2022-10-07T13:32:28.656494Z",
     "iopub.status.idle": "2022-10-07T13:32:28.659529Z",
     "shell.execute_reply": "2022-10-07T13:32:28.659172Z",
     "shell.execute_reply.started": "2022-10-07T13:32:28.656680Z"
    },
    "tags": []
   },
   "outputs": [
    {
     "data": {
      "text/plain": [
       "[1, 2.0, '3', 'four', 'F$V3']"
      ]
     },
     "execution_count": 17,
     "metadata": {},
     "output_type": "execute_result"
    }
   ],
   "source": [
    "my_list + [\"F$V3\"]  # Concatenating `my_list` with a list of one element"
   ]
  },
  {
   "cell_type": "code",
   "execution_count": 18,
   "metadata": {
    "execution": {
     "iopub.execute_input": "2022-10-07T13:32:28.863281Z",
     "iopub.status.busy": "2022-10-07T13:32:28.863037Z",
     "iopub.status.idle": "2022-10-07T13:32:28.867206Z",
     "shell.execute_reply": "2022-10-07T13:32:28.866927Z",
     "shell.execute_reply.started": "2022-10-07T13:32:28.863251Z"
    },
    "tags": []
   },
   "outputs": [
    {
     "data": {
      "text/plain": [
       "[1, 2, 1, 2, 1, 2, 1, 2, 1, 2]"
      ]
     },
     "execution_count": 18,
     "metadata": {},
     "output_type": "execute_result"
    }
   ],
   "source": [
    "[1, 2] * 5  # Repeating a list 5 times"
   ]
  },
  {
   "cell_type": "markdown",
   "metadata": {},
   "source": [
    "Mutable means that you can change the individual elements of the list:"
   ]
  },
  {
   "cell_type": "code",
   "execution_count": 19,
   "metadata": {
    "execution": {
     "iopub.execute_input": "2022-10-07T13:32:29.262540Z",
     "iopub.status.busy": "2022-10-07T13:32:29.262176Z",
     "iopub.status.idle": "2022-10-07T13:32:29.268122Z",
     "shell.execute_reply": "2022-10-07T13:32:29.267567Z",
     "shell.execute_reply.started": "2022-10-07T13:32:29.262498Z"
    },
    "tags": []
   },
   "outputs": [
    {
     "data": {
      "text/plain": [
       "[-1, 2.0, '3', 'four']"
      ]
     },
     "execution_count": 19,
     "metadata": {},
     "output_type": "execute_result"
    }
   ],
   "source": [
    "my_list[0] = -1\n",
    "my_list"
   ]
  },
  {
   "cell_type": "markdown",
   "metadata": {},
   "source": [
    "Or append new elements:"
   ]
  },
  {
   "cell_type": "code",
   "execution_count": 20,
   "metadata": {
    "execution": {
     "iopub.execute_input": "2022-10-07T13:32:29.649950Z",
     "iopub.status.busy": "2022-10-07T13:32:29.649554Z",
     "iopub.status.idle": "2022-10-07T13:32:29.655264Z",
     "shell.execute_reply": "2022-10-07T13:32:29.654290Z",
     "shell.execute_reply.started": "2022-10-07T13:32:29.649899Z"
    },
    "tags": []
   },
   "outputs": [],
   "source": [
    "my_list.append(\"F$V3\")"
   ]
  },
  {
   "cell_type": "code",
   "execution_count": 21,
   "metadata": {
    "execution": {
     "iopub.execute_input": "2022-10-07T13:32:29.838347Z",
     "iopub.status.busy": "2022-10-07T13:32:29.838134Z",
     "iopub.status.idle": "2022-10-07T13:32:29.842011Z",
     "shell.execute_reply": "2022-10-07T13:32:29.841783Z",
     "shell.execute_reply.started": "2022-10-07T13:32:29.838328Z"
    },
    "tags": []
   },
   "outputs": [
    {
     "data": {
      "text/plain": [
       "[-1, 2.0, '3', 'four', 'F$V3']"
      ]
     },
     "execution_count": 21,
     "metadata": {},
     "output_type": "execute_result"
    }
   ],
   "source": [
    "my_list"
   ]
  },
  {
   "cell_type": "markdown",
   "metadata": {},
   "source": [
    "## Anatomy of a Python error"
   ]
  },
  {
   "cell_type": "markdown",
   "metadata": {},
   "source": [
    "Errors in Python are displayed in a light red background, and indicate\n",
    "\n",
    "1. Where does the error originate (with an arrow `---->`),\n",
    "2. The class (\"category\") of the error (for example `NameError`), and\n",
    "3. An explanation of what happened\n",
    "\n",
    "Pay attention to exceptions closely, since they interrupt the flow:"
   ]
  },
  {
   "cell_type": "code",
   "execution_count": 12,
   "metadata": {
    "execution": {
     "iopub.execute_input": "2022-10-04T20:51:13.192806Z",
     "iopub.status.busy": "2022-10-04T20:51:13.192553Z",
     "iopub.status.idle": "2022-10-04T20:51:13.451632Z",
     "shell.execute_reply": "2022-10-04T20:51:13.451093Z",
     "shell.execute_reply.started": "2022-10-04T20:51:13.192781Z"
    }
   },
   "outputs": [
    {
     "ename": "ZeroDivisionError",
     "evalue": "division by zero",
     "output_type": "error",
     "traceback": [
      "\u001b[0;31m---------------------------------------------------------------------------\u001b[0m",
      "\u001b[0;31mZeroDivisionError\u001b[0m                         Traceback (most recent call last)",
      "Input \u001b[0;32mIn [12]\u001b[0m, in \u001b[0;36m<cell line: 3>\u001b[0;34m()\u001b[0m\n\u001b[1;32m      1\u001b[0m \u001b[38;5;241m1\u001b[39m \u001b[38;5;241m+\u001b[39m \u001b[38;5;241m1\u001b[39m\n\u001b[1;32m      2\u001b[0m \u001b[38;5;241m2\u001b[39m \u001b[38;5;241m*\u001b[39m \u001b[38;5;241m2\u001b[39m\n\u001b[0;32m----> 3\u001b[0m \u001b[38;5;241;43m3\u001b[39;49m\u001b[43m \u001b[49m\u001b[38;5;241;43m/\u001b[39;49m\u001b[43m \u001b[49m\u001b[38;5;241;43m0\u001b[39;49m  \u001b[38;5;66;03m# Raises ZeroDivisionError\u001b[39;00m\n\u001b[1;32m      4\u001b[0m \u001b[38;5;241m4\u001b[39m \u001b[38;5;241m*\u001b[39m\u001b[38;5;241m*\u001b[39m \u001b[38;5;241m4\u001b[39m\n",
      "\u001b[0;31mZeroDivisionError\u001b[0m: division by zero"
     ]
    }
   ],
   "source": [
    "1 + 1\n",
    "2 * 2\n",
    "3 / 0  # Raises ZeroDivisionError\n",
    "4 ** 4  # Never gets executed"
   ]
  },
  {
   "cell_type": "markdown",
   "metadata": {},
   "source": [
    "If you make a typo, you will likely get a `NameError`, since you will be trying to access a variable that was never defined:"
   ]
  },
  {
   "cell_type": "code",
   "execution_count": 13,
   "metadata": {
    "execution": {
     "iopub.execute_input": "2022-10-04T20:51:43.424867Z",
     "iopub.status.busy": "2022-10-04T20:51:43.424468Z",
     "iopub.status.idle": "2022-10-04T20:51:43.434906Z",
     "shell.execute_reply": "2022-10-04T20:51:43.434568Z",
     "shell.execute_reply.started": "2022-10-04T20:51:43.424841Z"
    }
   },
   "outputs": [
    {
     "ename": "NameError",
     "evalue": "name 'nme' is not defined",
     "output_type": "error",
     "traceback": [
      "\u001b[0;31m---------------------------------------------------------------------------\u001b[0m",
      "\u001b[0;31mNameError\u001b[0m                                 Traceback (most recent call last)",
      "Input \u001b[0;32mIn [13]\u001b[0m, in \u001b[0;36m<cell line: 1>\u001b[0;34m()\u001b[0m\n\u001b[0;32m----> 1\u001b[0m \u001b[43mnme\u001b[49m\n",
      "\u001b[0;31mNameError\u001b[0m: name 'nme' is not defined"
     ]
    }
   ],
   "source": [
    "nme"
   ]
  },
  {
   "cell_type": "code",
   "execution_count": 14,
   "metadata": {
    "execution": {
     "iopub.execute_input": "2022-10-04T20:51:45.361635Z",
     "iopub.status.busy": "2022-10-04T20:51:45.361172Z",
     "iopub.status.idle": "2022-10-04T20:51:45.367218Z",
     "shell.execute_reply": "2022-10-04T20:51:45.366536Z",
     "shell.execute_reply.started": "2022-10-04T20:51:45.361596Z"
    }
   },
   "outputs": [
    {
     "data": {
      "text/plain": [
       "'Juan Luis'"
      ]
     },
     "execution_count": 14,
     "metadata": {},
     "output_type": "execute_result"
    }
   ],
   "source": [
    "name"
   ]
  },
  {
   "cell_type": "markdown",
   "metadata": {},
   "source": [
    "## Built-in Python functions"
   ]
  },
  {
   "cell_type": "markdown",
   "metadata": {},
   "source": [
    "Functions take parameters and produce some result, usually by returning a variable (but not always). There are some built-in functions, like `round`, `input`, or `print`:"
   ]
  },
  {
   "cell_type": "code",
   "execution_count": 15,
   "metadata": {
    "execution": {
     "iopub.execute_input": "2022-10-04T20:52:41.064902Z",
     "iopub.status.busy": "2022-10-04T20:52:41.064577Z",
     "iopub.status.idle": "2022-10-04T20:52:41.069643Z",
     "shell.execute_reply": "2022-10-04T20:52:41.069339Z",
     "shell.execute_reply.started": "2022-10-04T20:52:41.064876Z"
    }
   },
   "outputs": [
    {
     "data": {
      "text/plain": [
       "0.3"
      ]
     },
     "execution_count": 15,
     "metadata": {},
     "output_type": "execute_result"
    }
   ],
   "source": [
    "round(0.1 + 0.2, 3)"
   ]
  },
  {
   "cell_type": "code",
   "execution_count": 16,
   "metadata": {
    "execution": {
     "iopub.execute_input": "2022-10-04T20:52:44.592126Z",
     "iopub.status.busy": "2022-10-04T20:52:44.591999Z",
     "iopub.status.idle": "2022-10-04T20:52:48.636265Z",
     "shell.execute_reply": "2022-10-04T20:52:48.634937Z",
     "shell.execute_reply.started": "2022-10-04T20:52:44.592115Z"
    },
    "tags": []
   },
   "outputs": [
    {
     "name": "stdin",
     "output_type": "stream",
     "text": [
      "What's your name? Juan Luis\n"
     ]
    },
    {
     "data": {
      "text/plain": [
       "'Juan Luis'"
      ]
     },
     "execution_count": 16,
     "metadata": {},
     "output_type": "execute_result"
    }
   ],
   "source": [
    "input(\"What's your name?\")"
   ]
  },
  {
   "cell_type": "code",
   "execution_count": 17,
   "metadata": {
    "execution": {
     "iopub.execute_input": "2022-10-04T20:53:30.862674Z",
     "iopub.status.busy": "2022-10-04T20:53:30.862355Z",
     "iopub.status.idle": "2022-10-04T20:53:30.867014Z",
     "shell.execute_reply": "2022-10-04T20:53:30.866607Z",
     "shell.execute_reply.started": "2022-10-04T20:53:30.862646Z"
    }
   },
   "outputs": [
    {
     "name": "stdout",
     "output_type": "stream",
     "text": [
      "2\n",
      "4\n",
      "6\n"
     ]
    }
   ],
   "source": [
    "print(1 + 1)\n",
    "print(2 + 2)\n",
    "print(3 + 3)"
   ]
  },
  {
   "cell_type": "code",
   "execution_count": 1,
   "metadata": {
    "execution": {
     "iopub.execute_input": "2022-10-14T17:20:30.402775Z",
     "iopub.status.busy": "2022-10-14T17:20:30.402269Z",
     "iopub.status.idle": "2022-10-14T17:20:30.413194Z",
     "shell.execute_reply": "2022-10-14T17:20:30.412944Z",
     "shell.execute_reply.started": "2022-10-14T17:20:30.402635Z"
    }
   },
   "outputs": [
    {
     "data": {
      "text/plain": [
       "1000"
      ]
     },
     "execution_count": 1,
     "metadata": {},
     "output_type": "execute_result"
    }
   ],
   "source": [
    "max([10, 100, 1_000])"
   ]
  },
  {
   "cell_type": "code",
   "execution_count": 4,
   "metadata": {
    "execution": {
     "iopub.execute_input": "2022-10-14T17:20:56.281088Z",
     "iopub.status.busy": "2022-10-14T17:20:56.280967Z",
     "iopub.status.idle": "2022-10-14T17:20:56.284091Z",
     "shell.execute_reply": "2022-10-14T17:20:56.283602Z",
     "shell.execute_reply.started": "2022-10-14T17:20:56.281077Z"
    }
   },
   "outputs": [
    {
     "data": {
      "text/plain": [
       "4"
      ]
     },
     "execution_count": 4,
     "metadata": {},
     "output_type": "execute_result"
    }
   ],
   "source": [
    "round(3.9)"
   ]
  },
  {
   "cell_type": "code",
   "execution_count": 6,
   "metadata": {
    "execution": {
     "iopub.execute_input": "2022-10-14T17:26:55.043917Z",
     "iopub.status.busy": "2022-10-14T17:26:55.043535Z",
     "iopub.status.idle": "2022-10-14T17:26:55.046607Z",
     "shell.execute_reply": "2022-10-14T17:26:55.046368Z",
     "shell.execute_reply.started": "2022-10-14T17:26:55.043900Z"
    },
    "tags": []
   },
   "outputs": [
    {
     "data": {
      "text/plain": [
       "1.6666666666666667"
      ]
     },
     "execution_count": 6,
     "metadata": {},
     "output_type": "execute_result"
    }
   ],
   "source": [
    "from statistics import mean\n",
    "\n",
    "mean([1, 1, 3])"
   ]
  },
  {
   "cell_type": "markdown",
   "metadata": {},
   "source": [
    "A function can be considered a \"black box\" that takes some inputs, returns some outputs, and encapsulates all the internal behavior so that it's \"invisible\".\n",
    "\n",
    "![Function as a black box](../img/function-black-box.png)"
   ]
  },
  {
   "cell_type": "markdown",
   "metadata": {},
   "source": [
    "## What are variables"
   ]
  },
  {
   "cell_type": "markdown",
   "metadata": {},
   "source": [
    "Apart from the automatically generated variables, you can name your own:"
   ]
  },
  {
   "cell_type": "code",
   "execution_count": 8,
   "metadata": {
    "execution": {
     "iopub.execute_input": "2022-10-04T20:48:17.850355Z",
     "iopub.status.busy": "2022-10-04T20:48:17.849995Z",
     "iopub.status.idle": "2022-10-04T20:48:17.856258Z",
     "shell.execute_reply": "2022-10-04T20:48:17.854754Z",
     "shell.execute_reply.started": "2022-10-04T20:48:17.850317Z"
    }
   },
   "outputs": [],
   "source": [
    "age = 30"
   ]
  },
  {
   "cell_type": "code",
   "execution_count": 9,
   "metadata": {
    "execution": {
     "iopub.execute_input": "2022-10-04T20:48:18.263776Z",
     "iopub.status.busy": "2022-10-04T20:48:18.263393Z",
     "iopub.status.idle": "2022-10-04T20:48:18.270475Z",
     "shell.execute_reply": "2022-10-04T20:48:18.270163Z",
     "shell.execute_reply.started": "2022-10-04T20:48:18.263739Z"
    }
   },
   "outputs": [
    {
     "data": {
      "text/plain": [
       "30"
      ]
     },
     "execution_count": 9,
     "metadata": {},
     "output_type": "execute_result"
    }
   ],
   "source": [
    "age"
   ]
  },
  {
   "cell_type": "markdown",
   "metadata": {},
   "source": [
    "---"
   ]
  },
  {
   "cell_type": "markdown",
   "metadata": {
    "tags": []
   },
   "source": [
    "## Exercises"
   ]
  },
  {
   "cell_type": "markdown",
   "metadata": {},
   "source": [
    "### 1. Do some math\n",
    "\n",
    "Find out the result of the following mathematical operations:\n",
    "\n",
    "$$ a = 0.1, b = 0.2 \\Rightarrow \\frac{a + b}{a - b} =\\,?$$\n",
    "\n",
    "$$ c = \\frac{1}{3}, d = 1.25 \\Rightarrow \\frac{10c + \\frac{d}{2}}{3}=\\,?$$\n",
    "$$ $$"
   ]
  }
 ],
 "metadata": {
  "kernelspec": {
   "display_name": "Python 3 (ipykernel)",
   "language": "python",
   "name": "python3"
  },
  "language_info": {
   "codemirror_mode": {
    "name": "ipython",
    "version": 3
   },
   "file_extension": ".py",
   "mimetype": "text/x-python",
   "name": "python",
   "nbconvert_exporter": "python",
   "pygments_lexer": "ipython3",
   "version": "3.12.11"
  }
 },
 "nbformat": 4,
 "nbformat_minor": 4
}
