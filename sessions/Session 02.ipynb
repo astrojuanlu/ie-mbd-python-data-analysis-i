{
 "cells": [
  {
   "attachments": {},
   "cell_type": "markdown",
   "metadata": {},
   "source": [
    "# Session 02\n",
    "\n",
    "[![Open and Execute in Google Colaboratory](https://colab.research.google.com/assets/colab-badge.svg)](https://colab.research.google.com/github/astrojuanlu/ie-mbd-python-data-analysis-i/blob/main/sessions/Session%2002.ipynb)\n",
    "\n",
    "- Python as a calculator: Basic numeric types\n",
    "- Floating point arithmetic\n",
    "- Built-in Python functions\n",
    "- What are variables, how to point them to data\n",
    "- Anatomy of a Python error"
   ]
  },
  {
   "cell_type": "markdown",
   "metadata": {},
   "source": [
    "## Python as a calculator"
   ]
  },
  {
   "cell_type": "markdown",
   "metadata": {},
   "source": [
    "Python as a simple calculator:"
   ]
  },
  {
   "cell_type": "code",
   "execution_count": null,
   "metadata": {},
   "outputs": [],
   "source": [
    "2 + 2"
   ]
  },
  {
   "cell_type": "markdown",
   "metadata": {},
   "source": [
    "In Jupyter, we execute code in cells. Each cell is automatically numbered and can contain several lines of code. The output of the last line is always shown:"
   ]
  },
  {
   "cell_type": "code",
   "execution_count": null,
   "metadata": {},
   "outputs": [],
   "source": [
    "1 + 1\n",
    "2 + 2\n",
    "3 + 3"
   ]
  },
  {
   "cell_type": "markdown",
   "metadata": {},
   "source": [
    "Jupyter generates some automatic variables prefixed with underscores that refer to the numbered cells. For example, variable `_2` contains the output of cell number 2:"
   ]
  },
  {
   "cell_type": "code",
   "execution_count": null,
   "metadata": {},
   "outputs": [],
   "source": [
    "_2"
   ]
  },
  {
   "cell_type": "markdown",
   "metadata": {},
   "source": [
    "All the usual mathematical operations are supported:"
   ]
  },
  {
   "cell_type": "code",
   "execution_count": null,
   "metadata": {},
   "outputs": [],
   "source": [
    "2 ** 4"
   ]
  },
  {
   "cell_type": "markdown",
   "metadata": {},
   "source": [
    "<div class=\"alert alert-info\">For a list of all operations, see the documentation at <a href=\"https://docs.python.org/3/library/stdtypes.html#numeric-types-int-float-complex\">https://docs.python.org/3/library/stdtypes.html#numeric-types-int-float-complex</a></div>"
   ]
  },
  {
   "cell_type": "markdown",
   "metadata": {},
   "source": [
    "Floating point arithmetic follows [some special rules](https://floating-point-gui.de/). No need to understand them in depth, just beware of surprising results:"
   ]
  },
  {
   "cell_type": "code",
   "execution_count": null,
   "metadata": {},
   "outputs": [],
   "source": [
    "1.0 + 2.0"
   ]
  },
  {
   "cell_type": "code",
   "execution_count": null,
   "metadata": {},
   "outputs": [],
   "source": [
    "0.1 + 0.2"
   ]
  },
  {
   "cell_type": "code",
   "execution_count": null,
   "metadata": {},
   "outputs": [],
   "source": [
    "0.2 + 0.3"
   ]
  },
  {
   "cell_type": "markdown",
   "metadata": {},
   "source": [
    "Python automatically promotes types when doing operations that combine different ones:"
   ]
  },
  {
   "cell_type": "code",
   "execution_count": null,
   "metadata": {},
   "outputs": [],
   "source": [
    "10 + 0.1  # int + float"
   ]
  },
  {
   "cell_type": "markdown",
   "metadata": {},
   "source": [
    "## Built-in Python functions"
   ]
  },
  {
   "cell_type": "markdown",
   "metadata": {},
   "source": [
    "Functions take parameters and produce some result, usually by returning a variable (but not always). [There are some built-in functions](https://docs.python.org/3/library/functions.html#built-in-funcs), like `int`, `max`, `round` and others:"
   ]
  },
  {
   "cell_type": "code",
   "execution_count": null,
   "metadata": {},
   "outputs": [],
   "source": [
    "int(1.9)"
   ]
  },
  {
   "cell_type": "code",
   "execution_count": null,
   "metadata": {},
   "outputs": [],
   "source": [
    "max([10, 100, 1_000])  # Notice the square brackets, more info in Session 4"
   ]
  },
  {
   "cell_type": "code",
   "execution_count": null,
   "metadata": {},
   "outputs": [],
   "source": [
    "round(3.9)"
   ]
  },
  {
   "cell_type": "markdown",
   "metadata": {},
   "source": [
    "Some functions receive optional parameters:"
   ]
  },
  {
   "cell_type": "markdown",
   "metadata": {},
   "source": [
    "<div class=\"alert alert-info\">You can display the docstring of the function to learn more about its parameters</div>"
   ]
  },
  {
   "cell_type": "code",
   "execution_count": null,
   "metadata": {},
   "outputs": [],
   "source": [
    "round(0.1 + 0.2, 3)"
   ]
  },
  {
   "cell_type": "markdown",
   "metadata": {},
   "source": [
    "A function can be considered a \"black box\" that takes some inputs, returns some outputs, and encapsulates all the internal behavior so that it's \"invisible\".\n",
    "\n",
    "![Function as a black box](../img/function-black-box.png)"
   ]
  },
  {
   "cell_type": "markdown",
   "metadata": {},
   "source": [
    "## What are variables"
   ]
  },
  {
   "cell_type": "markdown",
   "metadata": {},
   "source": [
    "Apart from the automatically generated variables, you can name your own:"
   ]
  },
  {
   "cell_type": "code",
   "execution_count": null,
   "metadata": {},
   "outputs": [],
   "source": [
    "age = 30"
   ]
  },
  {
   "cell_type": "code",
   "execution_count": null,
   "metadata": {},
   "outputs": [],
   "source": [
    "age"
   ]
  },
  {
   "cell_type": "markdown",
   "metadata": {},
   "source": [
    "Multiple assignment is supported:"
   ]
  },
  {
   "cell_type": "code",
   "execution_count": null,
   "metadata": {},
   "outputs": [],
   "source": [
    "x, y = 1, 2\n",
    "x"
   ]
  },
  {
   "cell_type": "code",
   "execution_count": null,
   "metadata": {},
   "outputs": [],
   "source": [
    "y"
   ]
  },
  {
   "cell_type": "markdown",
   "metadata": {},
   "source": [
    "The official style guide for Python, [PEP 8](https://peps.python.org/pep-0008/#function-and-variable-names), says that\n",
    "\n",
    "> Function names should be lowercase, with words separated by underscores as necessary to improve readability."
   ]
  },
  {
   "cell_type": "code",
   "execution_count": null,
   "metadata": {},
   "outputs": [],
   "source": [
    "BadVariableName = 1.0\n",
    "good_variable_name = 1.0"
   ]
  },
  {
   "cell_type": "markdown",
   "metadata": {},
   "source": [
    "You cannot use reserved Python keywords:"
   ]
  },
  {
   "cell_type": "code",
   "execution_count": null,
   "metadata": {},
   "outputs": [],
   "source": [
    "False = 3"
   ]
  },
  {
   "cell_type": "code",
   "execution_count": null,
   "metadata": {},
   "outputs": [],
   "source": [
    "def = 1"
   ]
  },
  {
   "cell_type": "markdown",
   "metadata": {},
   "source": [
    "## Anatomy of a Python error"
   ]
  },
  {
   "cell_type": "markdown",
   "metadata": {},
   "source": [
    "Errors in Python are displayed in a light red background, and indicate\n",
    "\n",
    "1. Where does the error originate (with an arrow `---->`),\n",
    "2. The class (\"category\") of the error (for example `NameError`), and\n",
    "3. An explanation of what happened\n",
    "\n",
    "Pay attention to exceptions closely, since they interrupt the flow:"
   ]
  },
  {
   "cell_type": "code",
   "execution_count": null,
   "metadata": {},
   "outputs": [],
   "source": [
    "1 + 1\n",
    "2 * 2\n",
    "3 / 0  # Raises ZeroDivisionError\n",
    "4 ** 4  # Never gets executed"
   ]
  },
  {
   "cell_type": "markdown",
   "metadata": {},
   "source": [
    "If you make a typo, you will likely get a `NameError`, since you will be trying to access a variable that was never defined:"
   ]
  },
  {
   "cell_type": "code",
   "execution_count": null,
   "metadata": {},
   "outputs": [],
   "source": [
    "nme"
   ]
  },
  {
   "cell_type": "code",
   "execution_count": null,
   "metadata": {},
   "outputs": [],
   "source": [
    "name"
   ]
  },
  {
   "cell_type": "markdown",
   "metadata": {},
   "source": [
    "---"
   ]
  },
  {
   "cell_type": "markdown",
   "metadata": {
    "tags": []
   },
   "source": [
    "## Exercises"
   ]
  },
  {
   "cell_type": "markdown",
   "metadata": {},
   "source": [
    "### 1. Compound interest\n",
    "\n",
    "The formula for the compound interest is\n",
    "\n",
    "$$ A=P \\left( 1+\\frac{r}{n} \\right)^{nt} $$\n",
    "\n",
    "where\n",
    "\n",
    "- $A$ is the final amount\n",
    "- $P$ is the original principal sum\n",
    "- $r$ is the nominal annual interest rate\n",
    "- $n$ is the compounding frequency (1: annually, 12: monthly, 52: weekly, 365: daily)\n",
    "- $t$ is the overall length of time the interest is applied (expressed using the same time units as r, usually years).\n",
    "\n",
    "Compute the final amount starting with 10 000 €, 5 % annual interest compounded monthly, after a period of 3 years. Declare variables that match each of the symbols of the equation.\n",
    "\n",
    "**Extra**: What's the return of investment (percentage of increase?)\n",
    "\n",
    "**Advanced**: Plot the increase of final amount in a 2-dimensional line chart, with different lines for different values of the interest rate."
   ]
  },
  {
   "cell_type": "code",
   "execution_count": null,
   "metadata": {},
   "outputs": [],
   "source": [
    "P = 10_000  # EUR\n",
    "r = ...\n",
    "# ..."
   ]
  },
  {
   "cell_type": "markdown",
   "metadata": {},
   "source": [
    "### 2. Break-even analysis\n",
    "\n",
    "A company sells a product for a price that depends on the demand. Fixed costs are 1 000 € and the variable cost per product = 10 €\n",
    "\n",
    "The profit is:\n",
    "\n",
    "$$ \\text{Profit}= \\left( \\text{Price}-\\text{Variable Cost} \\right) \\times \\text{Units Sold}-\\text{Fixed Costs}$$\n",
    "\n",
    "And the price is:\n",
    "\n",
    "$$ \\text{Price} = 25 - 0.02 \\times \\text{Units Sold} $$\n",
    "\n",
    "Write code that calculates the profit for 200 units sold. Assign one variable per quantity. Use appropriate variable names, instead of 1-letter names as we did in the previous exercise.\n",
    "\n",
    "**Extra**: What's the minimum number of units sold for profit to become positive?\n",
    "\n",
    "**Advanced**: Plot the profit vs units sold in a 2-dimensional line chart."
   ]
  },
  {
   "cell_type": "code",
   "execution_count": null,
   "metadata": {},
   "outputs": [],
   "source": [
    "fixed_costs = 1_000\n",
    "# ..."
   ]
  },
  {
   "cell_type": "markdown",
   "metadata": {},
   "source": [
    "### 3. Debug the code\n",
    "\n",
    "Your colleague is trying to compute the monthly payment of a fixed-interest mortgage, but they're not sure whether their calculations are correct. Also, their variable names are not following the Python style guide. Can you help?\n",
    "\n",
    "```python\n",
    "PRINCIPAL = 200_000\n",
    "AnnualRate = 6.5\n",
    "yearsTotal = 30\n",
    "\n",
    "Payment = PRINCIPAL * (AnnualRate / 12) / (1 - (1 + AnnualRate / 12) ** -yearsTotal * 12)\n",
    "```"
   ]
  },
  {
   "cell_type": "code",
   "execution_count": null,
   "metadata": {},
   "outputs": [],
   "source": []
  }
 ],
 "metadata": {
  "kernelspec": {
   "display_name": "Python 3 (ipykernel)",
   "language": "python",
   "name": "python3"
  },
  "language_info": {
   "codemirror_mode": {
    "name": "ipython",
    "version": 3
   },
   "file_extension": ".py",
   "mimetype": "text/x-python",
   "name": "python",
   "nbconvert_exporter": "python",
   "pygments_lexer": "ipython3",
   "version": "3.12.11"
  }
 },
 "nbformat": 4,
 "nbformat_minor": 4
}
