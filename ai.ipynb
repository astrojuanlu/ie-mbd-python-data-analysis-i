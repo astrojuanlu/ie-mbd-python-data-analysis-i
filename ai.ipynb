{
 "cells": [
  {
   "cell_type": "markdown",
   "id": "4b5efcf1-b8ae-4c84-a80a-5e64a457e0f2",
   "metadata": {
    "editable": true,
    "slideshow": {
     "slide_type": "slide"
    },
    "tags": []
   },
   "source": [
    "# Is AI-assisted learning any good?"
   ]
  },
  {
   "attachments": {},
   "cell_type": "markdown",
   "id": "e39779dc-88d8-4ad5-aea1-01859143d719",
   "metadata": {
    "colab_type": "text",
    "editable": true,
    "id": "tIdHggZ9Kv2m",
    "slideshow": {
     "slide_type": "subslide"
    },
    "tags": []
   },
   "source": [
    "## But doesn't it make you more productive?\n",
    "\n",
    "First, most companies measure developer productivity the wrong way (emphasis mine) https://newsletter.pragmaticengineer.com/p/measuring-developer-productivity\n",
    "\n",
    "> _Last week, \\[McKinsey & Company\\] published an article titled Yes, you can measure software developer productivity. This article caused quite a stir in the software development community. **Kent Beck** — software engineer and the **creator of extreme programming** — wrote that ‘**The report is so absurd and naive that it makes no sense to critique it in detail**.’_\n",
    "\n",
    "For a modern, scientific, evidence-based take on developer productivity, see the works of Abi Noda and Laura Tacho, for example [DX Core 4](https://getdx.com/research/measuring-developer-productivity-with-the-dx-core-4/)."
   ]
  },
  {
   "attachments": {},
   "cell_type": "markdown",
   "id": "f26354a5-909e-4f88-85b2-12089f6d95f5",
   "metadata": {
    "colab_type": "text",
    "editable": true,
    "id": "tIdHggZ9Kv2m",
    "slideshow": {
     "slide_type": "subslide"
    },
    "tags": []
   },
   "source": [
    "## Well, but it makes you a faster coder, right?\n",
    "\n",
    "Second, some studies suggest that, for some definition of productivity, there is actually no increase at all https://doi.org/10.48550/arXiv.2507.09089\n",
    "\n",
    "> Surprisingly, we find that when developers use AI tools, they take 19% longer than without—AI makes them slower\n",
    "\n",
    "![METR study](img/ai/metr-productivity.png)"
   ]
  },
  {
   "cell_type": "markdown",
   "id": "add608de-18c7-4479-9d10-7ae8096aebcc",
   "metadata": {
    "colab_type": "text",
    "editable": true,
    "id": "tIdHggZ9Kv2m",
    "slideshow": {
     "slide_type": "subslide"
    },
    "tags": []
   },
   "source": [
    "## You sound like math teachers who criticised calculators\n",
    "\n",
    "Third, the impact of the use of GenAI tools in cognitive abilities is still an area of active research. Initial results point to a decline in critical engagement, self-reported ownership, and long-term retention.\n",
    "\n",
    "For example, Lepp & Kaimre \"Does generative AI help in learning programming: Students’ perceptions, reported use and relation to performance\" https://doi.org/10.1016/j.chbr.2025.100642 says\n",
    "\n",
    "> Descriptive statistical methods were employed to analyze usage and perceptions, while Spearman's correlation was used to investigate the connection between chatbot usage and course performance. Results indicated that students primarily relied on AI chatbots for programming tasks. Interestingly, students' performance negatively correlates with the reported frequency of using these tools."
   ]
  },
  {
   "cell_type": "markdown",
   "id": "214abbdc-ae5a-4a08-aa32-b768e21df9be",
   "metadata": {
    "colab_type": "text",
    "editable": true,
    "id": "tIdHggZ9Kv2m",
    "slideshow": {
     "slide_type": "subslide"
    },
    "tags": []
   },
   "source": [
    "## Okay but... it will create abundance for everyone!\n",
    "\n",
    "Many analysts agree that so-called \"AI\" is a bubble (or, [three](https://www.fastcompany.com/91400857/there-isnt-an-ai-bubble-there-are-three-ai-bu)) and that projections of cash expenditures and revenues are completely unrealistic.\n",
    "\n",
    "For a long, well researched summary, read Ed Zitron's \"The Case Against Generative AI\" https://www.wheresyoured.at/the-case-against-generative-ai/\n",
    "\n",
    "![Ed Zitron is mad as hell](img/zitron.png)"
   ]
  },
  {
   "attachments": {},
   "cell_type": "markdown",
   "id": "71c83259-bc17-477e-a81b-98888f5762ec",
   "metadata": {
    "colab_type": "text",
    "editable": true,
    "id": "tIdHggZ9Kv2m",
    "slideshow": {
     "slide_type": "subslide"
    },
    "tags": []
   },
   "source": [
    "## But...\n",
    "\n",
    "And finally, AI is a deliberately confusing, corporate buzzword and the development of these technologies have profound, wide-ranging societal implications. For a summary, read Guest et al, \"Against the Uncritical Adoption of 'AI' Technologies in Academia\" https://doi.org/10.5281/zenodo.17065099\n",
    "\n",
    "![Against the Uncritical Adoption of AI in Academia](img/ai/guest-2025-against-uncritical-adoption.png)"
   ]
  }
 ],
 "metadata": {
  "kernelspec": {
   "display_name": "Python 3 (ipykernel)",
   "language": "python",
   "name": "python3"
  },
  "language_info": {
   "codemirror_mode": {
    "name": "ipython",
    "version": 3
   },
   "file_extension": ".py",
   "mimetype": "text/x-python",
   "name": "python",
   "nbconvert_exporter": "python",
   "pygments_lexer": "ipython3",
   "version": "3.12.11"
  }
 },
 "nbformat": 4,
 "nbformat_minor": 5
}
