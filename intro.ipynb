{
 "cells": [
  {
   "cell_type": "markdown",
   "metadata": {
    "colab_type": "text",
    "editable": true,
    "id": "bY4wGo3hKv1i",
    "slideshow": {
     "slide_type": "slide"
    },
    "tags": []
   },
   "source": [
    "![IE](img/ie.png)\n",
    "\n",
    "# Python for Data Analysis I\n",
    "\n",
    "## Master in Business Analytics & Data Science, October 2025\n",
    "\n",
    "### Professor: Juan Luis Cano Rodríguez <jcano@faculty.ie.edu>"
   ]
  },
  {
   "cell_type": "markdown",
   "metadata": {
    "colab_type": "text",
    "editable": true,
    "id": "civOrU5RKv1o",
    "slideshow": {
     "slide_type": "slide"
    },
    "tags": []
   },
   "source": [
    "# Outline\n",
    "\n",
    "- Who am I?\n",
    "- What is Python? Why Python?\n",
    "- PyData Ecosystem\n",
    "- About this course\n",
    "    - Calendar, sessions\n",
    "    - Material\n",
    "    - Software\n",
    "    - Learning objectives\n",
    "    - Evaluation method"
   ]
  },
  {
   "cell_type": "markdown",
   "metadata": {
    "colab_type": "text",
    "editable": true,
    "id": "w3UGLILTKv1s",
    "slideshow": {
     "slide_type": "slide"
    },
    "tags": []
   },
   "source": [
    "# Who am I?\n",
    "\n",
    "![Me](img/juanlu-ubuntu-summit-2023.jpg)\n",
    "\n",
    "- **Aerospace Engineer** from TU Madrid + 1 year at Politecnico di Milano\n",
    "- **Developer Relations Engineer** at [**Canonical**](https://canonical.com/), the makers of Ubuntu Linux\n",
    "- Working with **Python** for 10+ years in different roles, including as Product Manager for Kedro at McKinsey & Company\n",
    "- **Contributor** to the PyData ecosystem: NumPy, SciPy, conda, Dask, ...\n",
    "- **Instructor** of Python courses for Data Scientists at Airbus, Boeing R&T, Telefónica and others\n",
    "- Honorific member of the **Python España** non-profit, former co-organizer of **PyCon Spain**, and current organizer of [**PyData Madrid**](https://guild.host/pydata-madrid/)"
   ]
  },
  {
   "cell_type": "markdown",
   "metadata": {
    "colab_type": "text",
    "editable": true,
    "id": "3O_aLqNxKv1y",
    "slideshow": {
     "slide_type": "slide"
    },
    "tags": []
   },
   "source": [
    "# What is Python?\n",
    "\n",
    "```python\n",
    "import pandas as pd\n",
    "\n",
    "df = pd.read_csv(\"data.csv\")\n",
    "print(df.head())\n",
    "```\n",
    "\n",
    "* **Python is** a dynamic, interpreted programming language\n",
    "* It is easy to learn, but powerful\n",
    "* Features a huge ecosystem of contributed packages\n",
    "* The backbone of the AI revolution"
   ]
  },
  {
   "cell_type": "markdown",
   "metadata": {
    "colab_type": "text",
    "editable": true,
    "id": "9QUsIoogKv11",
    "slideshow": {
     "slide_type": "subslide"
    },
    "tags": []
   },
   "source": [
    "## Why is Python so popular?\n",
    "\n",
    ">  Last month, Python reached the highest ranking a programming language ever had in the TIOBE index. We thought Python couldn't grow any further, but AI code assistants let Python take yet another step forward.\n",
    "\n",
    "([source](https://web.archive.org/web/20250831052739/https://www.tiobe.com/tiobe-index/))\n",
    "\n",
    "![TIOBE index, September 2025](img/tiobe-python-2025.png)"
   ]
  },
  {
   "attachments": {},
   "cell_type": "markdown",
   "metadata": {
    "colab_type": "text",
    "editable": true,
    "id": "fIKTIyntKv16",
    "slideshow": {
     "slide_type": "subslide"
    },
    "tags": []
   },
   "source": [
    "* Python was already popular for scripting, science and web development in the early '00s\n",
    "* In the following years, **Data Science and Machine Learning, then Deep Learning, then AI** made it incredibly popular\n",
    "\n",
    "More interesting surveys:\n",
    "\n",
    "* Anaconda State of Data Science 2024: \"Python continues to serve as the foundation of data science, with 93% of respondents using it in some capacity\" https://www.anaconda.com/resources/report/state-of-data-science-report-2024\n",
    "* Kaggle Survey 2022: \"Python and SQL remain the two most common programming skills for data scientists\" https://www.kaggle.com/kaggle-survey-2022"
   ]
  },
  {
   "cell_type": "markdown",
   "metadata": {
    "colab_type": "text",
    "editable": true,
    "id": "VmwymI3pKv19",
    "slideshow": {
     "slide_type": "subslide"
    },
    "tags": []
   },
   "source": [
    "## Disadvantages\n",
    "\n",
    "* Python itself is _slow_ - but you won't notice if you use its specialized libraries (pandas, NumPy)\n",
    "* Weaker time series and statistical analysis (you might want to use R for that)\n",
    "* Lack of type enforcement can cause unexpected bugs in production"
   ]
  },
  {
   "cell_type": "markdown",
   "metadata": {
    "editable": true,
    "slideshow": {
     "slide_type": "slide"
    },
    "tags": []
   },
   "source": [
    "# PyData ecosystem\n",
    "\n",
    "![PyData ecosystem](img/ecosystem/1.png)"
   ]
  },
  {
   "cell_type": "markdown",
   "metadata": {
    "editable": true,
    "slideshow": {
     "slide_type": "subslide"
    },
    "tags": []
   },
   "source": [
    "![PyData ecosystem](img/ecosystem/2.png)"
   ]
  },
  {
   "cell_type": "markdown",
   "metadata": {
    "editable": true,
    "slideshow": {
     "slide_type": "subslide"
    },
    "tags": []
   },
   "source": [
    "![PyData ecosystem](img/ecosystem/3.png)"
   ]
  },
  {
   "cell_type": "markdown",
   "metadata": {
    "editable": true,
    "slideshow": {
     "slide_type": "subslide"
    },
    "tags": []
   },
   "source": [
    "![PyData ecosystem](img/ecosystem/4.png)"
   ]
  },
  {
   "cell_type": "markdown",
   "metadata": {
    "editable": true,
    "slideshow": {
     "slide_type": "subslide"
    },
    "tags": []
   },
   "source": [
    "![PyData ecosystem](img/ecosystem/5.png)"
   ]
  },
  {
   "cell_type": "markdown",
   "metadata": {
    "colab_type": "text",
    "editable": true,
    "id": "sPJolsQMKv2R",
    "slideshow": {
     "slide_type": "slide"
    },
    "tags": []
   },
   "source": [
    "# About this course\n",
    "\n",
    "## Learning objectives\n",
    "\n",
    "1. Understand the basics of the Python programming language syntax\n",
    "2. Learn how to perform tabular data manipulation with Pandas\n",
    "3. Gain hands-on experience in how to use notebook interfaces (Jupyter, VS Code) to conduct exploratory analysis\n",
    "4. Learn how to understand Python code written by another person or GenAI system\n",
    "5. Learn how to solve algorithmic problems with Python"
   ]
  },
  {
   "cell_type": "markdown",
   "metadata": {
    "editable": true,
    "slideshow": {
     "slide_type": "subslide"
    },
    "tags": []
   },
   "source": [
    "## Calendar\n",
    "\n",
    "* **From Sep 30th to Dec 16th**\n",
    "  - October: Python and Jupyter basics, mid-term exam\n",
    "  - November: pandas (2 week break)\n",
    "  - December: pandas, group presentations, final exam\n",
    "* **All sessions will be hands on**, have your Colab notebooks ready!"
   ]
  },
  {
   "cell_type": "markdown",
   "metadata": {
    "colab_type": "text",
    "editable": true,
    "id": "t6t9tmi8Kv2V",
    "slideshow": {
     "slide_type": "subslide"
    },
    "tags": []
   },
   "source": [
    "## Evaluation method\n",
    "\n",
    "| Criteria                   | Score % | Description |\n",
    "|----------------------------|---------|-------------|\n",
    "| Class Participation        |  10 %   | Attendance, attitude, questions posed during the class |\n",
    "| Mid-term exam              |  25 %   | Proctored test covering all the material taught until the mid-term date |\n",
    "| Group Project Deliverable  |  15 %   | Code deliverable |\n",
    "| Group Project Presentation |  25 %   | Questions posed about the code deliverable to the group |\n",
    "| Final Exam                 |  25 %   | Proctored test covering the whole syllabus |\n",
    "\n",
    "Summary:\n",
    "- 60 % individual exams + participation\n",
    "- 40 % group project"
   ]
  },
  {
   "cell_type": "markdown",
   "metadata": {
    "colab_type": "text",
    "editable": true,
    "id": "V2JI6cAgKv2S",
    "slideshow": {
     "slide_type": "subslide"
    },
    "tags": []
   },
   "source": [
    "## Individual exams\n",
    "\n",
    "* Two exams: 1 mid-term, 1 final\n",
    "* Proctored test\n",
    "* Details coming soon"
   ]
  },
  {
   "cell_type": "markdown",
   "metadata": {
    "colab_type": "text",
    "editable": true,
    "id": "V2JI6cAgKv2S",
    "slideshow": {
     "slide_type": "subslide"
    },
    "tags": []
   },
   "source": [
    "## Group project\n",
    "\n",
    "* Analyze a small dataset, write a report, and present the results\n",
    "* You will have to apply all the things we see in the subject\n",
    "* Details coming soon"
   ]
  },
  {
   "cell_type": "markdown",
   "metadata": {
    "colab_type": "text",
    "editable": true,
    "id": "V2JI6cAgKv2S",
    "slideshow": {
     "slide_type": "subslide"
    },
    "tags": []
   },
   "source": [
    "## Participation\n",
    "\n",
    "* Everybody starts with maximum participation grade\n",
    "* You may lose points for lack of engagement, arriving late, and other inappropriate attitude\n",
    "* Check the University's [Code of Conduct](https://www.ie.edu/student-academic-standards/academic-integrity/#code-conduct), [Attendance Policy](https://www.ie.edu/student-academic-standards/academic-policies/), and [Ethics Code](https://docs.ie.edu/university/NEW-ethics-code.pdf) "
   ]
  },
  {
   "attachments": {},
   "cell_type": "markdown",
   "metadata": {
    "colab_type": "text",
    "editable": true,
    "id": "tIdHggZ9Kv2m",
    "slideshow": {
     "slide_type": "subslide"
    },
    "tags": []
   },
   "source": [
    "## AI policy\n",
    "\n",
    "> **Generative artificial intelligence (GenAI) tools may be used in this course for coding, debugging, research, ideation, and other uses with proper acknowledgement.**\n",
    "\n",
    "The evaluation system is designed so that the bulk of the grade is driven by what did you **understand**, and not your throughput."
   ]
  },
  {
   "attachments": {},
   "cell_type": "markdown",
   "metadata": {
    "colab_type": "text",
    "editable": true,
    "id": "tIdHggZ9Kv2m",
    "slideshow": {
     "slide_type": "subslide"
    },
    "tags": []
   },
   "source": [
    "### But doesn't it make you more productive?\n",
    "\n",
    "First, most companies measure developer productivity the wrong way (emphasis mine) https://newsletter.pragmaticengineer.com/p/measuring-developer-productivity\n",
    "\n",
    "> _Last week, \\[McKinsey & Company\\] published an article titled Yes, you can measure software developer productivity. This article caused quite a stir in the software development community. **Kent Beck** — software engineer and the **creator of extreme programming** — wrote that ‘**The report is so absurd and naive that it makes no sense to critique it in detail**.’_\n",
    "\n",
    "For a modern, scientific, evidence-based take on developer productivity, see the works of Abi Noda and Laura Tacho, for example [DX Core 4](https://getdx.com/research/measuring-developer-productivity-with-the-dx-core-4/)."
   ]
  },
  {
   "attachments": {},
   "cell_type": "markdown",
   "metadata": {
    "colab_type": "text",
    "editable": true,
    "id": "tIdHggZ9Kv2m",
    "slideshow": {
     "slide_type": "subslide"
    },
    "tags": []
   },
   "source": [
    "Second, some studies suggest that, for some definition of productivity, there is actually no increase at all https://doi.org/10.48550/arXiv.2507.09089\n",
    "\n",
    "> Surprisingly, we find that when developers use AI tools, they take 19% longer than without—AI makes them slower\n",
    "\n",
    "![METR study](img/ai/metr-productivity.png)"
   ]
  },
  {
   "attachments": {},
   "cell_type": "markdown",
   "metadata": {
    "colab_type": "text",
    "editable": true,
    "id": "tIdHggZ9Kv2m",
    "slideshow": {
     "slide_type": "subslide"
    },
    "tags": []
   },
   "source": [
    "Third,\n",
    "\n",
    "> The impact of the use of GenAI tools in cognitive abilities is still an area of active research. Initial results point to a decline in critical engagement, self-reported ownership, and long-term retention.\n",
    "\n",
    "For a summary, read Guest et al, \"Against the Uncritical Adoption of 'AI' Technologies in Academia\" https://doi.org/10.5281/zenodo.17065099\n",
    "\n",
    "![Against the Uncritical Adoption of AI in Academia](img/ai/guest-2025-against-uncritical-adoption.png)"
   ]
  },
  {
   "attachments": {},
   "cell_type": "markdown",
   "metadata": {
    "colab_type": "text",
    "editable": true,
    "id": "tIdHggZ9Kv2m",
    "slideshow": {
     "slide_type": "subslide"
    },
    "tags": []
   },
   "source": [
    "And fourth, AI assistants are like a friend spotting you on pull-ups. Eventually, it'll feel even better to be able to do one on your own.\n",
    "\n",
    "![Pull-ups](img/ai/assisted-pull-ups.jpg)"
   ]
  },
  {
   "cell_type": "markdown",
   "metadata": {
    "editable": true,
    "slideshow": {
     "slide_type": "subslide"
    },
    "tags": []
   },
   "source": [
    "### What about _vibe coding_?\n",
    "\n",
    "- Vibe coding, as [initially described by Andrej Karpathy](https://x.com/karpathy/status/1886192184808149383), is all about _not looking at the code_\n",
    "- Therefore, it's essentially incompatible with learning how to _code_\n",
    "\n",
    "![Vibe coding](img/ai/vibe-coding.png)"
   ]
  },
  {
   "cell_type": "markdown",
   "metadata": {
    "editable": true,
    "slideshow": {
     "slide_type": "subslide"
    },
    "tags": []
   },
   "source": [
    "### Okay, but can I use it?\n",
    "\n",
    "- I will not force you to use AI, nor will I police against the use of AI\n",
    "- Instead, we will _reason_ about the code using our Natural Intelligence™\n",
    "  - Which, in turn, will make you more productive AI users (among other, more important side effects)\n",
    "\n",
    "**Always assume the output of the LLM is wrong**, and as such:\n",
    "\n",
    "1. Always verify that the code _works_\n",
    "2. Always cross-check with the official documentation of the libraries you are using\n",
    "3. Always seek to understand the code that the AI produced\n",
    "4. Compare the output of different AI assistants"
   ]
  },
  {
   "cell_type": "markdown",
   "metadata": {
    "editable": true,
    "slideshow": {
     "slide_type": "subslide"
    },
    "tags": []
   },
   "source": [
    "Remember: **you** are ultimately responsible from what you deliver.\n",
    "\n",
    "![IBM computer accountability](img/ai/computer-accountability.jpg)"
   ]
  },
  {
   "cell_type": "markdown",
   "metadata": {
    "colab_type": "text",
    "editable": true,
    "id": "oZkXQ455Kv2X",
    "slideshow": {
     "slide_type": "subslide"
    },
    "tags": []
   },
   "source": [
    "## Material\n",
    "\n",
    "Exercises, notes, datasets: https://github.com/astrojuanlu/ie-mbd-python-data-analysis-i/\n",
    "\n",
    "### Extra reading\n",
    "\n",
    "- Main content: \"A Whirlwind Tour of Python\" by Jake Vanderplas https://github.com/jakevdp/WhirlwindTourOfPython\n",
    "- pandas: \"Python Data Science Handbook\" by Jake Vanderplas https://github.com/jakevdp/PythonDataScienceHandbook"
   ]
  },
  {
   "cell_type": "markdown",
   "metadata": {
    "colab_type": "text",
    "editable": true,
    "id": "kPp2i65xKv2Z",
    "slideshow": {
     "slide_type": "fragment"
    },
    "tags": []
   },
   "source": [
    "...yes, everything is freely available on the Internet :)"
   ]
  },
  {
   "cell_type": "markdown",
   "metadata": {
    "colab_type": "text",
    "editable": true,
    "id": "CaQFquQbKv2f",
    "slideshow": {
     "slide_type": "subslide"
    },
    "tags": []
   },
   "source": [
    "## Software\n",
    "\n",
    "- Web-based: **Google Colab** (accessible with your IE account)\n",
    "- Local: **Anaconda Distribution 2025.06** or later\n",
    "  - Compatible with Windows, Mac and Linux"
   ]
  },
  {
   "cell_type": "markdown",
   "metadata": {
    "editable": true,
    "slideshow": {
     "slide_type": "slide"
    },
    "tags": []
   },
   "source": [
    "# How to succeed in this subject\n",
    "\n",
    "- I know you have a dozen other things to do...\n",
    "- ...but learning coding is hard and requires focus\n",
    "- Develop a **bias for action**: instead of asking for _more_ reading material, **write as much code as possible**\n",
    "- Sometimes you will feel dumb and frustrated, it's normal, you will get over it\n",
    "- Ask in class, ask in the Blackboard Discussions, I am here to help you\n",
    "- When appropriate, train your ability to use search engines and AI assistants to guide your learning\n",
    "- Assume I'm your **tech lead**, not your _client_"
   ]
  },
  {
   "cell_type": "markdown",
   "metadata": {
    "colab_type": "text",
    "editable": true,
    "id": "tIdHggZ9Kv2m",
    "slideshow": {
     "slide_type": "slide"
    },
    "tags": []
   },
   "source": [
    "# Shall we begin?\n",
    "\n",
    "![Talk is cheap](img/quote-talk-is-cheap-show-me-the-code-linus-torvalds-273528.jpg)"
   ]
  }
 ],
 "metadata": {
  "celltoolbar": "Slideshow",
  "colab": {
   "collapsed_sections": [],
   "name": "Course Introduction.ipynb",
   "provenance": [],
   "toc_visible": true,
   "version": "0.3.2"
  },
  "kernelspec": {
   "display_name": "Python 3 (ipykernel)",
   "language": "python",
   "name": "python3"
  },
  "language_info": {
   "codemirror_mode": {
    "name": "ipython",
    "version": 3
   },
   "file_extension": ".py",
   "mimetype": "text/x-python",
   "name": "python",
   "nbconvert_exporter": "python",
   "pygments_lexer": "ipython3",
   "version": "3.12.11"
  },
  "rise": {
   "autolaunch": true,
   "enable_chalkboard": true
  }
 },
 "nbformat": 4,
 "nbformat_minor": 4
}
